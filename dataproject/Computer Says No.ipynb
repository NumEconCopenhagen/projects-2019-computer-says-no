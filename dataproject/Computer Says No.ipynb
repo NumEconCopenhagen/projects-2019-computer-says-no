{
 "cells": [
  {
   "cell_type": "markdown",
   "metadata": {},
   "source": [
    "## Prerequisites and Packages:\n",
    "Firstly if you haven't read the readme, please do so as the interactive map we produce requires installing geopandas and various dependencies.\n",
    "<br> NB: To view fig. 2 (interactive map), you'll have to run the code yourself, as the notebook is too large to upload, if the figure is displayed within this notebook. See README for instrutions or TLDR use: conda install -c conda-forge geopandas "
   ]
  },
  {
   "cell_type": "code",
   "execution_count": 2,
   "metadata": {},
   "outputs": [],
   "source": [
    "import numpy as np\n",
    "import pandas as pd\n",
    "import matplotlib.pyplot as plt\n",
    "import geopandas as gpd\n",
    "import ipywidgets as widgets\n",
    "import matplotlib.patches as mpatches\n",
    "import json\n",
    "#Here we import various packages which are needed to create an interactive figure. Inspiration from the internet. \n",
    "from bokeh.io import output_notebook, show, output_file\n",
    "from bokeh.plotting import figure\n",
    "from bokeh.models import GeoJSONDataSource, LinearColorMapper, ColorBar\n",
    "from bokeh.palettes import brewer\n",
    "from bokeh.io import curdoc, output_notebook\n",
    "from bokeh.models import HoverTool\n"
   ]
  },
  {
   "cell_type": "markdown",
   "metadata": {},
   "source": [
    "## Prepare Data for Manipulation\n",
    "\n",
    "### Income Data\n",
    "\n",
    "Data is obtained from Danmarks Statistik (DST) ref. no. INDKP101.\n",
    "We have extracted mean income for women and men in each municipality from 1987 to 2017:"
   ]
  },
  {
   "cell_type": "code",
   "execution_count": 3,
   "metadata": {},
   "outputs": [],
   "source": [
    "import numpy as np\n",
    "import pandas as pd\n",
    "import matplotlib.pyplot as plt\n",
    "import geopandas as gpd\n",
    "filnavn = 'Indkomster i DK.xlsx'\n",
    "Data = pd.read_excel(filnavn,skiprows=2)"
   ]
  },
  {
   "cell_type": "code",
   "execution_count": 4,
   "metadata": {},
   "outputs": [],
   "source": [
    "#Fjerner de kolonner hvor der står unnamed, og som ikke skal bruges\n",
    "drop_noname = ['Unnamed: 0', 'Unnamed: 1','Unnamed: 2',]\n",
    "Data.drop(drop_noname, axis=1, inplace=True)\n",
    "\n",
    "#Kalder variablen Unnamed: 3 for kommune i stedet for\n",
    "Data.rename(columns ={'Unnamed: 3': 'Kommune'}, inplace=True)\n",
    "\n",
    "#Ikke god praksis at have variable som er tal, så der bliver tilføjet et e foran\n",
    "myDict = {}\n",
    "for i in range(1987,2018):\n",
    "    myDict[str(i)]=f'e{i}'\n",
    "myDict\n",
    "\n",
    "Data.rename(columns=myDict, inplace=True)"
   ]
  },
  {
   "cell_type": "code",
   "execution_count": 5,
   "metadata": {},
   "outputs": [],
   "source": [
    "F = Data['Kommune'].str.contains('Landsdel') # Mark rows which register country parts rather than muncipalities"
   ]
  },
  {
   "cell_type": "code",
   "execution_count": 6,
   "metadata": {},
   "outputs": [],
   "source": [
    "#Remove the rows for country parts\n",
    "for val in ['Landsdel']:\n",
    "    F  = Data.Kommune.str.contains(val)\n",
    "    Data=Data.loc[F==False]"
   ]
  },
  {
   "cell_type": "markdown",
   "metadata": {},
   "source": [
    "__Check that data is intact;__ same number of municipalities observed across year, that maxes and minimums are 'reasonable' etc.\n",
    "We see 196 rows, which corresponds to 2 x 98 (no. of municipalities) -> first 98 rows for men next 98 for women."
   ]
  },
  {
   "cell_type": "code",
   "execution_count": 7,
   "metadata": {},
   "outputs": [
    {
     "data": {
      "text/html": [
       "<div>\n",
       "<style scoped>\n",
       "    .dataframe tbody tr th:only-of-type {\n",
       "        vertical-align: middle;\n",
       "    }\n",
       "\n",
       "    .dataframe tbody tr th {\n",
       "        vertical-align: top;\n",
       "    }\n",
       "\n",
       "    .dataframe thead th {\n",
       "        text-align: right;\n",
       "    }\n",
       "</style>\n",
       "<table border=\"1\" class=\"dataframe\">\n",
       "  <thead>\n",
       "    <tr style=\"text-align: right;\">\n",
       "      <th></th>\n",
       "      <th>e1987</th>\n",
       "      <th>e1988</th>\n",
       "      <th>e1989</th>\n",
       "      <th>e1990</th>\n",
       "      <th>e1991</th>\n",
       "      <th>e1992</th>\n",
       "      <th>e1993</th>\n",
       "      <th>e1994</th>\n",
       "      <th>e1995</th>\n",
       "      <th>e1996</th>\n",
       "      <th>...</th>\n",
       "      <th>e2008</th>\n",
       "      <th>e2009</th>\n",
       "      <th>e2010</th>\n",
       "      <th>e2011</th>\n",
       "      <th>e2012</th>\n",
       "      <th>e2013</th>\n",
       "      <th>e2014</th>\n",
       "      <th>e2015</th>\n",
       "      <th>e2016</th>\n",
       "      <th>e2017</th>\n",
       "    </tr>\n",
       "  </thead>\n",
       "  <tbody>\n",
       "    <tr>\n",
       "      <th>count</th>\n",
       "      <td>196.000000</td>\n",
       "      <td>196.000000</td>\n",
       "      <td>196.000000</td>\n",
       "      <td>196.000000</td>\n",
       "      <td>196.000000</td>\n",
       "      <td>196.000000</td>\n",
       "      <td>196.000000</td>\n",
       "      <td>196.000000</td>\n",
       "      <td>196.000000</td>\n",
       "      <td>196.000000</td>\n",
       "      <td>...</td>\n",
       "      <td>196.000000</td>\n",
       "      <td>196.000000</td>\n",
       "      <td>196.000000</td>\n",
       "      <td>196.000000</td>\n",
       "      <td>196.000000</td>\n",
       "      <td>196.000000</td>\n",
       "      <td>196.000000</td>\n",
       "      <td>196.000000</td>\n",
       "      <td>196.000000</td>\n",
       "      <td>196.000000</td>\n",
       "    </tr>\n",
       "    <tr>\n",
       "      <th>mean</th>\n",
       "      <td>79186.132653</td>\n",
       "      <td>83324.857143</td>\n",
       "      <td>88139.153061</td>\n",
       "      <td>91767.734694</td>\n",
       "      <td>96274.780612</td>\n",
       "      <td>99317.969388</td>\n",
       "      <td>102630.091837</td>\n",
       "      <td>109878.209184</td>\n",
       "      <td>115144.423469</td>\n",
       "      <td>119700.285714</td>\n",
       "      <td>...</td>\n",
       "      <td>178403.056122</td>\n",
       "      <td>180825.163265</td>\n",
       "      <td>197023.474490</td>\n",
       "      <td>201273.173469</td>\n",
       "      <td>206485.362245</td>\n",
       "      <td>212083.714286</td>\n",
       "      <td>216271.698980</td>\n",
       "      <td>221923.392857</td>\n",
       "      <td>225162.040816</td>\n",
       "      <td>231627.591837</td>\n",
       "    </tr>\n",
       "    <tr>\n",
       "      <th>std</th>\n",
       "      <td>15177.657559</td>\n",
       "      <td>14644.357423</td>\n",
       "      <td>14578.458852</td>\n",
       "      <td>14828.282831</td>\n",
       "      <td>15229.730789</td>\n",
       "      <td>15042.608499</td>\n",
       "      <td>16169.309746</td>\n",
       "      <td>17309.010719</td>\n",
       "      <td>18941.375129</td>\n",
       "      <td>20319.552329</td>\n",
       "      <td>...</td>\n",
       "      <td>29731.180540</td>\n",
       "      <td>26441.288704</td>\n",
       "      <td>34417.453514</td>\n",
       "      <td>36754.715171</td>\n",
       "      <td>38541.912139</td>\n",
       "      <td>40846.314654</td>\n",
       "      <td>42923.935925</td>\n",
       "      <td>46414.247785</td>\n",
       "      <td>47409.158349</td>\n",
       "      <td>48995.639891</td>\n",
       "    </tr>\n",
       "    <tr>\n",
       "      <th>min</th>\n",
       "      <td>55691.000000</td>\n",
       "      <td>60592.000000</td>\n",
       "      <td>64299.000000</td>\n",
       "      <td>70351.000000</td>\n",
       "      <td>75354.000000</td>\n",
       "      <td>78456.000000</td>\n",
       "      <td>81182.000000</td>\n",
       "      <td>86519.000000</td>\n",
       "      <td>90238.000000</td>\n",
       "      <td>93487.000000</td>\n",
       "      <td>...</td>\n",
       "      <td>140593.000000</td>\n",
       "      <td>145592.000000</td>\n",
       "      <td>155976.000000</td>\n",
       "      <td>156279.000000</td>\n",
       "      <td>160736.000000</td>\n",
       "      <td>164238.000000</td>\n",
       "      <td>167574.000000</td>\n",
       "      <td>169527.000000</td>\n",
       "      <td>171198.000000</td>\n",
       "      <td>173612.000000</td>\n",
       "    </tr>\n",
       "    <tr>\n",
       "      <th>25%</th>\n",
       "      <td>65302.500000</td>\n",
       "      <td>69905.750000</td>\n",
       "      <td>74796.500000</td>\n",
       "      <td>78216.000000</td>\n",
       "      <td>82189.500000</td>\n",
       "      <td>85563.000000</td>\n",
       "      <td>88744.000000</td>\n",
       "      <td>94368.750000</td>\n",
       "      <td>98045.250000</td>\n",
       "      <td>101839.000000</td>\n",
       "      <td>...</td>\n",
       "      <td>157741.750000</td>\n",
       "      <td>162900.750000</td>\n",
       "      <td>173721.000000</td>\n",
       "      <td>176610.750000</td>\n",
       "      <td>180907.250000</td>\n",
       "      <td>183945.250000</td>\n",
       "      <td>187559.750000</td>\n",
       "      <td>191413.250000</td>\n",
       "      <td>195132.750000</td>\n",
       "      <td>198566.500000</td>\n",
       "    </tr>\n",
       "    <tr>\n",
       "      <th>50%</th>\n",
       "      <td>78219.500000</td>\n",
       "      <td>82029.500000</td>\n",
       "      <td>86546.000000</td>\n",
       "      <td>90471.000000</td>\n",
       "      <td>96309.000000</td>\n",
       "      <td>98480.000000</td>\n",
       "      <td>101863.000000</td>\n",
       "      <td>109792.500000</td>\n",
       "      <td>115177.500000</td>\n",
       "      <td>119305.500000</td>\n",
       "      <td>...</td>\n",
       "      <td>173163.000000</td>\n",
       "      <td>174907.500000</td>\n",
       "      <td>189593.000000</td>\n",
       "      <td>195664.500000</td>\n",
       "      <td>200470.000000</td>\n",
       "      <td>206668.500000</td>\n",
       "      <td>209265.500000</td>\n",
       "      <td>214829.000000</td>\n",
       "      <td>217113.500000</td>\n",
       "      <td>224818.000000</td>\n",
       "    </tr>\n",
       "    <tr>\n",
       "      <th>75%</th>\n",
       "      <td>86831.250000</td>\n",
       "      <td>90360.250000</td>\n",
       "      <td>96511.750000</td>\n",
       "      <td>99681.000000</td>\n",
       "      <td>104597.000000</td>\n",
       "      <td>107969.500000</td>\n",
       "      <td>110753.000000</td>\n",
       "      <td>119772.000000</td>\n",
       "      <td>125825.250000</td>\n",
       "      <td>130800.750000</td>\n",
       "      <td>...</td>\n",
       "      <td>189845.500000</td>\n",
       "      <td>189887.750000</td>\n",
       "      <td>207891.250000</td>\n",
       "      <td>211729.000000</td>\n",
       "      <td>217730.250000</td>\n",
       "      <td>225407.000000</td>\n",
       "      <td>227666.250000</td>\n",
       "      <td>235305.250000</td>\n",
       "      <td>238415.750000</td>\n",
       "      <td>245649.750000</td>\n",
       "    </tr>\n",
       "    <tr>\n",
       "      <th>max</th>\n",
       "      <td>145475.000000</td>\n",
       "      <td>148305.000000</td>\n",
       "      <td>144270.000000</td>\n",
       "      <td>155342.000000</td>\n",
       "      <td>159076.000000</td>\n",
       "      <td>160987.000000</td>\n",
       "      <td>190397.000000</td>\n",
       "      <td>177585.000000</td>\n",
       "      <td>203830.000000</td>\n",
       "      <td>213937.000000</td>\n",
       "      <td>...</td>\n",
       "      <td>337239.000000</td>\n",
       "      <td>338866.000000</td>\n",
       "      <td>396307.000000</td>\n",
       "      <td>425414.000000</td>\n",
       "      <td>439329.000000</td>\n",
       "      <td>449012.000000</td>\n",
       "      <td>467785.000000</td>\n",
       "      <td>515346.000000</td>\n",
       "      <td>519931.000000</td>\n",
       "      <td>533813.000000</td>\n",
       "    </tr>\n",
       "  </tbody>\n",
       "</table>\n",
       "<p>8 rows × 31 columns</p>\n",
       "</div>"
      ],
      "text/plain": [
       "               e1987          e1988          e1989          e1990  \\\n",
       "count     196.000000     196.000000     196.000000     196.000000   \n",
       "mean    79186.132653   83324.857143   88139.153061   91767.734694   \n",
       "std     15177.657559   14644.357423   14578.458852   14828.282831   \n",
       "min     55691.000000   60592.000000   64299.000000   70351.000000   \n",
       "25%     65302.500000   69905.750000   74796.500000   78216.000000   \n",
       "50%     78219.500000   82029.500000   86546.000000   90471.000000   \n",
       "75%     86831.250000   90360.250000   96511.750000   99681.000000   \n",
       "max    145475.000000  148305.000000  144270.000000  155342.000000   \n",
       "\n",
       "               e1991          e1992          e1993          e1994  \\\n",
       "count     196.000000     196.000000     196.000000     196.000000   \n",
       "mean    96274.780612   99317.969388  102630.091837  109878.209184   \n",
       "std     15229.730789   15042.608499   16169.309746   17309.010719   \n",
       "min     75354.000000   78456.000000   81182.000000   86519.000000   \n",
       "25%     82189.500000   85563.000000   88744.000000   94368.750000   \n",
       "50%     96309.000000   98480.000000  101863.000000  109792.500000   \n",
       "75%    104597.000000  107969.500000  110753.000000  119772.000000   \n",
       "max    159076.000000  160987.000000  190397.000000  177585.000000   \n",
       "\n",
       "               e1995          e1996      ...                e2008  \\\n",
       "count     196.000000     196.000000      ...           196.000000   \n",
       "mean   115144.423469  119700.285714      ...        178403.056122   \n",
       "std     18941.375129   20319.552329      ...         29731.180540   \n",
       "min     90238.000000   93487.000000      ...        140593.000000   \n",
       "25%     98045.250000  101839.000000      ...        157741.750000   \n",
       "50%    115177.500000  119305.500000      ...        173163.000000   \n",
       "75%    125825.250000  130800.750000      ...        189845.500000   \n",
       "max    203830.000000  213937.000000      ...        337239.000000   \n",
       "\n",
       "               e2009          e2010          e2011          e2012  \\\n",
       "count     196.000000     196.000000     196.000000     196.000000   \n",
       "mean   180825.163265  197023.474490  201273.173469  206485.362245   \n",
       "std     26441.288704   34417.453514   36754.715171   38541.912139   \n",
       "min    145592.000000  155976.000000  156279.000000  160736.000000   \n",
       "25%    162900.750000  173721.000000  176610.750000  180907.250000   \n",
       "50%    174907.500000  189593.000000  195664.500000  200470.000000   \n",
       "75%    189887.750000  207891.250000  211729.000000  217730.250000   \n",
       "max    338866.000000  396307.000000  425414.000000  439329.000000   \n",
       "\n",
       "               e2013          e2014          e2015          e2016  \\\n",
       "count     196.000000     196.000000     196.000000     196.000000   \n",
       "mean   212083.714286  216271.698980  221923.392857  225162.040816   \n",
       "std     40846.314654   42923.935925   46414.247785   47409.158349   \n",
       "min    164238.000000  167574.000000  169527.000000  171198.000000   \n",
       "25%    183945.250000  187559.750000  191413.250000  195132.750000   \n",
       "50%    206668.500000  209265.500000  214829.000000  217113.500000   \n",
       "75%    225407.000000  227666.250000  235305.250000  238415.750000   \n",
       "max    449012.000000  467785.000000  515346.000000  519931.000000   \n",
       "\n",
       "               e2017  \n",
       "count     196.000000  \n",
       "mean   231627.591837  \n",
       "std     48995.639891  \n",
       "min    173612.000000  \n",
       "25%    198566.500000  \n",
       "50%    224818.000000  \n",
       "75%    245649.750000  \n",
       "max    533813.000000  \n",
       "\n",
       "[8 rows x 31 columns]"
      ]
     },
     "execution_count": 7,
     "metadata": {},
     "output_type": "execute_result"
    }
   ],
   "source": [
    "Data.describe()"
   ]
  },
  {
   "cell_type": "code",
   "execution_count": 8,
   "metadata": {},
   "outputs": [],
   "source": [
    "Data_men = Data.iloc[0:98,:] # Split wage observations on men from dataset\n",
    "Data_women = Data.iloc[98:199,:] # split wage observations on women from dataset\n",
    "Data_men_reind=Data_men.set_index('Kommune') # Reindex by municipalites\n",
    "Data_women_reind=Data_women.set_index('Kommune') # Reindex by municipalites\n",
    "collist = (Data_men_reind.columns.values) # Store columnnames \n",
    "indexlist=(Data_men_reind.index.values) # Store indexing municipalities"
   ]
  },
  {
   "cell_type": "markdown",
   "metadata": {},
   "source": [
    "Calculate the male wage premium in a municipality for a given year (% men earn more than woman on average):"
   ]
  },
  {
   "cell_type": "code",
   "execution_count": 9,
   "metadata": {},
   "outputs": [],
   "source": [
    "dif = np.zeros((len(Data_men_reind),len(collist))) # Create an empty array\n",
    "for y in range(len(collist)):\n",
    "  for x in range(len(Data_men_reind)):\n",
    "    dif[x,y]=((Data_men_reind.iloc[x,y]-Data_women_reind.iloc[x,y])/Data_women_reind.iloc[x,y])*100 # Calculate percentage wage premium for men\n",
    "    \n",
    "Data_dif=pd.DataFrame(data=dif, index=indexlist, columns=collist) ## Wide dataframe containing male wage premium across yrs/muncipality\n",
    "Data_dif = Data_dif.reset_index()\n",
    "Data_dif.rename(columns={'index':'Kommune'}, inplace=True)"
   ]
  },
  {
   "cell_type": "markdown",
   "metadata": {},
   "source": [
    "### Municipal Election Data\n",
    "\n",
    "Data is obtained from Danmarks Statistik (DST) ref. no. VALGK3.\n",
    "We extracted the number of women and men who ran for municipal offices in every municipality for each party in the elections of 2005, 2009, 2013 and 2017."
   ]
  },
  {
   "cell_type": "code",
   "execution_count": 10,
   "metadata": {},
   "outputs": [],
   "source": [
    "filnavn = 'VALGK3.xlsx'\n",
    "Data_valg = pd.read_excel(filnavn,skiprows=2)"
   ]
  },
  {
   "cell_type": "code",
   "execution_count": 11,
   "metadata": {},
   "outputs": [],
   "source": [
    "Data_valg=Data_valg.rename(columns={\"Unnamed: 0\": \"Køn\", \"Unnamed: 1\": \"Parti\", \"Unnamed: 2\": \"Kommune\"})"
   ]
  },
  {
   "cell_type": "code",
   "execution_count": 12,
   "metadata": {},
   "outputs": [],
   "source": [
    "Data_valg=Data_valg.fillna(method='ffill') # forward fills \n",
    "Data_vag=Data_valg.sort_values(by=['Kommune', 'Køn'], inplace=True)\n",
    "Data_valg=Data_valg.groupby(['Kommune','Køn'], as_index=False).agg({\"2005\": \"sum\", \"2009\": \"sum\", \"2013\": \"sum\", \"2017\":\"sum\"}) # Generate groups by municipality & sex.\n",
    "\n",
    "\n",
    "Christiansøindex = Data_valg[(Data_valg['Kommune']==\"Christiansø\")].index # Mark and remove the pseudo-municipality of Christiansø\n",
    "Data_valg.drop(Christiansøindex, inplace=True)"
   ]
  },
  {
   "cell_type": "markdown",
   "metadata": {},
   "source": [
    " Get observations of men and women on same row and reduce:"
   ]
  },
  {
   "cell_type": "code",
   "execution_count": 13,
   "metadata": {},
   "outputs": [],
   "source": [
    "Data_valg[\"2005_k\"] = Data_valg.groupby(\"Kommune\")[\"2005\"].shift() \n",
    "Data_valg[\"2009_k\"] = Data_valg.groupby(\"Kommune\")[\"2009\"].shift()\n",
    "Data_valg[\"2013_k\"] = Data_valg.groupby(\"Kommune\")[\"2013\"].shift()\n",
    "Data_valg[\"2017_k\"] = Data_valg.groupby(\"Kommune\")[\"2017\"].shift()\n",
    "Naindex=Data_valg[Data_valg[\"2005_k\"].isna()].index\n",
    "Data_valg.drop(Naindex, inplace=True) # Reduces data to one row pr. municipality"
   ]
  },
  {
   "cell_type": "markdown",
   "metadata": {},
   "source": [
    "Calculate how percentage of women running for office in a given municipality of all candidates:"
   ]
  },
  {
   "cell_type": "code",
   "execution_count": 14,
   "metadata": {},
   "outputs": [],
   "source": [
    "Data_valg[\"2005_ratio\"]=(Data_valg[\"2005_k\"]/(Data_valg[\"2005\"]+Data_valg[\"2005_k\"]))*100 # Calculate ratios for each year pr. municipalities\n",
    "Data_valg[\"2009_ratio\"]=Data_valg[\"2009_k\"]/(Data_valg[\"2009\"]+Data_valg[\"2009_k\"])*100\n",
    "Data_valg[\"2013_ratio\"]=Data_valg[\"2013_k\"]/(Data_valg[\"2013\"]+Data_valg[\"2013_k\"])*100\n",
    "Data_valg[\"2017_ratio\"]=Data_valg[\"2017_k\"]/(Data_valg[\"2017\"]+Data_valg[\"2017_k\"])*100\n",
    "\n",
    "Data_valg=Data_valg.drop(columns=[\"Køn\",\"2005\",\"2009\",\"2013\",\"2017\",\"2005_k\",\"2009_k\", \"2013_k\",\"2017_k\"],axis=1)\n",
    "Data_valg=Data_valg.rename(columns={\"2005_ratio\": \"2005\", \"2009_ratio\": \"2009\", \"2013_ratio\": \"2013\", \"2017_ratio\":\"2017\"})\n",
    "myDict = {}\n",
    "for i in range(2005,2018):\n",
    "    myDict[str(i)]=f'e{i}'\n",
    "myDict\n",
    "\n",
    "Data_valg.rename(columns=myDict, inplace=True) # We promise not to rename columns again.. No really we won't!"
   ]
  },
  {
   "cell_type": "markdown",
   "metadata": {},
   "source": [
    "### Geodata:\n",
    "Geodata for municipality borders is available through Kortforsyningen (registration is needed)."
   ]
  },
  {
   "cell_type": "code",
   "execution_count": 15,
   "metadata": {},
   "outputs": [],
   "source": [
    "shapefile = 'KOMMUNE.shp'\n",
    "#Read shapefile using Geopandas. We need only the columns: ID, geometry, KOMNAVN\n",
    "gdf = gpd.read_file(shapefile)[['FEAT_ID','KOMNAVN','geometry']]\n",
    "#Rename columns. \n",
    "gdf.columns = ['ID', 'Kommune', 'geometry']"
   ]
  },
  {
   "cell_type": "markdown",
   "metadata": {},
   "source": [
    "## Figures"
   ]
  },
  {
   "cell_type": "markdown",
   "metadata": {},
   "source": [
    "### 1. Income across time in a chosen municipality. "
   ]
  },
  {
   "cell_type": "code",
   "execution_count": 16,
   "metadata": {
    "scrolled": true
   },
   "outputs": [
    {
     "ename": "NameError",
     "evalue": "name 'Data_men_tall' is not defined",
     "output_type": "error",
     "traceback": [
      "\u001b[1;31m---------------------------------------------------------------------------\u001b[0m",
      "\u001b[1;31mNameError\u001b[0m                                 Traceback (most recent call last)",
      "\u001b[1;32m<ipython-input-16-b1926d81a4e7>\u001b[0m in \u001b[0;36m<module>\u001b[1;34m\u001b[0m\n\u001b[0;32m     17\u001b[0m \u001b[1;33m\u001b[0m\u001b[0m\n\u001b[0;32m     18\u001b[0m widgets.interact(plot_e, \n\u001b[1;32m---> 19\u001b[1;33m     \u001b[0mData_men_tall\u001b[0m \u001b[1;33m=\u001b[0m \u001b[0mwidgets\u001b[0m\u001b[1;33m.\u001b[0m\u001b[0mfixed\u001b[0m\u001b[1;33m(\u001b[0m\u001b[0mData_men_tall\u001b[0m\u001b[1;33m)\u001b[0m\u001b[1;33m,\u001b[0m\u001b[0mData_women_tall\u001b[0m \u001b[1;33m=\u001b[0m \u001b[0mwidgets\u001b[0m\u001b[1;33m.\u001b[0m\u001b[0mfixed\u001b[0m\u001b[1;33m(\u001b[0m\u001b[0mData_women_tall\u001b[0m\u001b[1;33m)\u001b[0m\u001b[1;33m,\u001b[0m\u001b[1;33m\u001b[0m\u001b[1;33m\u001b[0m\u001b[0m\n\u001b[0m\u001b[0;32m     20\u001b[0m     \u001b[0mKommune\u001b[0m \u001b[1;33m=\u001b[0m \u001b[0mwidgets\u001b[0m\u001b[1;33m.\u001b[0m\u001b[0mDropdown\u001b[0m\u001b[1;33m(\u001b[0m\u001b[0mdescription\u001b[0m\u001b[1;33m=\u001b[0m\u001b[1;34m'Kommune'\u001b[0m\u001b[1;33m,\u001b[0m \u001b[0moptions\u001b[0m\u001b[1;33m=\u001b[0m\u001b[0mData_men_tall\u001b[0m\u001b[1;33m.\u001b[0m\u001b[0mKommune\u001b[0m\u001b[1;33m.\u001b[0m\u001b[0munique\u001b[0m\u001b[1;33m(\u001b[0m\u001b[1;33m)\u001b[0m\u001b[1;33m,\u001b[0m \u001b[0mvalue\u001b[0m\u001b[1;33m=\u001b[0m\u001b[1;34m'København'\u001b[0m\u001b[1;33m)\u001b[0m\u001b[1;33m\u001b[0m\u001b[1;33m\u001b[0m\u001b[0m\n\u001b[0;32m     21\u001b[0m ); \n",
      "\u001b[1;31mNameError\u001b[0m: name 'Data_men_tall' is not defined"
     ]
    }
   ],
   "source": [
    "#Create function which determines which municipality to look at, and the corresponding income for men and women.\n",
    "def plot_e(Data_men_tall, Data_women_tall, Kommune): \n",
    "    \"\"\"Plots income of men and women across time for a municipality.\n",
    "    Args:\n",
    "    Data_men_tall: Dataframe of income in long format (for men in our example)\n",
    "    Data_women_tall: -..- (for women in our example)\n",
    "    Kommune: List of municipalities used drop down menu.\n",
    "    \n",
    "    Output:\n",
    "    plot of income with a widget allowing user to choose municipality.\n",
    "    \"\"\"\n",
    "    \n",
    "    I = Data_men_tall['Kommune'] == Kommune\n",
    "    I2 = Data_women_tall['Kommune']==Kommune\n",
    "    ax=Data_men_tall.loc[I,:].plot(x='år', y='e', style='-', legend='True',label='Avg. Income Men')\n",
    "    ax2 = Data_women_tall.loc[I2,:].plot(ax=ax,x='år',y='e',style='-',label='Avg. Income Women')\n",
    "    \n",
    "widgets.interact(plot_e, \n",
    "    Data_men_tall = widgets.fixed(Data_men_tall),Data_women_tall = widgets.fixed(Data_women_tall),\n",
    "    Kommune = widgets.Dropdown(description='Kommune', options=Data_men_tall.Kommune.unique(), value='København')\n",
    "); \n"
   ]
  },
  {
   "cell_type": "markdown",
   "metadata": {},
   "source": [
    "Note income is nominal: If one scrolls through different municipalities a two communalities are apparent: \n",
    "<br> 1) A wage drop is generally found aorund 2009, this coincides with the onset of the recession. As wages are nominal, we would expcet them to be increasing over time, it may still be, that real wages have decreased.\n",
    "<br> 2) The gender wage gap is present in all years for all municipalities."
   ]
  },
  {
   "cell_type": "markdown",
   "metadata": {},
   "source": [
    "## 2. Map illustrating differences wages, (gender) pay gaps and representation across Danish municipalities in 2017"
   ]
  },
  {
   "cell_type": "markdown",
   "metadata": {},
   "source": [
    "Change our 3 dataframes for absolute income, pay gap (%) and municipality board gender composistion to long format for 2017 only and merge:"
   ]
  },
  {
   "cell_type": "code",
   "execution_count": null,
   "metadata": {},
   "outputs": [],
   "source": [
    "##Absolute Income: \n",
    "\n",
    "# 1. split sexes and reindex\n",
    "Data_men_tall = pd.wide_to_long(Data_men, stubnames='e', i='Kommune', j='år')\n",
    "Data_men_tall = Data_men_tall.reset_index()\n",
    "Data_women_tall = pd.wide_to_long(Data_women, stubnames='e',i='Kommune', j='år')\n",
    "Data_women_tall = Data_women_tall.reset_index()\n",
    "# 2.extract 2017 \n",
    "Data_men_tall_2017 = Data_men_tall[Data_men_tall['år']==2017]\n",
    "Data_women_tall_2017 = Data_women_tall[Data_women_tall['år']==2017]\n",
    "\n",
    "# 3. Merge again\n",
    "Indkomst = pd.merge(Data_men_tall_2017,Data_women_tall_2017,on='Kommune')\n",
    "## Pay gap:\n",
    "Data_dif_tall = pd.melt(Data_dif, id_vars=['Kommune'], var_name='år', value_name='Wage')\n",
    "Data_dif_tall_2017 = Data_dif_tall[Data_dif_tall['år']=='e2017']\n",
    "Data_dif_tall_2017 = Data_dif_tall_2017.reset_index()\n",
    "\n",
    "## Candidates in municipal elections:\n",
    "Data_valg_tall = pd.melt(Data_valg, id_vars=['Kommune'], var_name='år',value_name='andel')\n",
    "Data_valg_tall_2017 = Data_valg_tall[Data_valg_tall['år']=='e2017']\n",
    "Data_valg_tall_2017 = Data_valg_tall_2017.reset_index()\n",
    "\n",
    "## Merging the above dataframes into one:\n",
    "result = pd.merge(Data_dif_tall_2017,Data_valg_tall_2017,on='Kommune')\n",
    "result = pd.merge(result,Indkomst, on='Kommune')\n"
   ]
  },
  {
   "cell_type": "markdown",
   "metadata": {},
   "source": [
    "Plot this data on the map:"
   ]
  },
  {
   "cell_type": "code",
   "execution_count": null,
   "metadata": {},
   "outputs": [],
   "source": [
    "#Merging the result dataframe with the geopandas file.\n",
    "merged = gdf.merge(result)\n",
    "#Read data to json. We want to convert the merged file to a GEOJson file, since GEOJson can describe points, lines \n",
    "#and polygons with the bokeh package.\n",
    "merged_json = json.loads(merged.to_json())\n",
    "#Convert to String like object.\n",
    "json_data = json.dumps(merged_json)\n",
    "\n",
    "#Input GeoJSON source that contains features for plotting.\n",
    "geosource = GeoJSONDataSource(geojson = json_data)\n",
    "#Define a sequential multi-hue color palette.\n",
    "palette = brewer['YlGnBu'][8]\n",
    "#Reverse color order so that dark blue is highest income.\n",
    "palette = palette[::-1]\n",
    "#Use LinearColorMapper that linearly maps numbers in a range, into a sequence of colors.\n",
    "color_mapper = LinearColorMapper(palette = palette, low = 10, high = 30)\n",
    "#Create color bar. \n",
    "color_bar = ColorBar(color_mapper=color_mapper, label_standoff=4,width = 500, height = 20,\n",
    "border_line_color=None,location = (0,0), orientation = 'horizontal')\n",
    "color_bar.title=\"Male Wage Premium, %\"\n",
    "#Create hovertool, with the different variables and descriptions.\n",
    "hover = HoverTool(tooltips = [ ('Municipality','@Kommune'),('Women running for city board, pct.', '@andel %'),\n",
    "                              ('Wage premium for men, pct.','@Wage %'),('Income men','@e_x kr.'),('Income women','@e_y kr.')])\n",
    "\n",
    "#Create the figure object.\n",
    "p = figure(title = 'Income in Denmark 2017', plot_height = 730 , plot_width = 950, toolbar_location = None, tools=[hover])\n",
    "#Might not need all of these commands\n",
    "p.xgrid.grid_line_color = None\n",
    "p.ygrid.grid_line_color = None\n",
    "\n",
    "#Remove the geo-coordinates on the x and y.axis.\n",
    "p.xaxis.major_label_text_color = None  \n",
    "p.yaxis.major_label_text_color = None \n",
    "p.xaxis.major_label_text_font_size = '0pt'  \n",
    "p.yaxis.major_label_text_font_size = '0pt'\n",
    "\n",
    "#Add patch renderer to figure, and specify by which variable the map should be colored in relation to.\n",
    "p.patches('xs','ys', source = geosource,fill_color = {'field' :'Wage', 'transform' : color_mapper},\n",
    "          line_color = 'black', line_width = 0.25, fill_alpha = 1)\n",
    "#Specify figure layout.\n",
    "p.add_layout(color_bar, 'below')\n",
    "\n",
    "#Display figure inline in Jupyter Notebook.\n",
    "output_notebook()\n",
    "#Display figure.\n",
    "show(p)\n"
   ]
  },
  {
   "cell_type": "markdown",
   "metadata": {},
   "source": [
    "The map shows larger wage gaps in South-Western Jutland and for a few select municipalities on Zealand. If we hover over these municipalities, the female representation in municipal boards vary considerably between them.\n"
   ]
  },
  {
   "cell_type": "markdown",
   "metadata": {},
   "source": [
    "## 3. Scatterplot of municipal wage gap against municipal gender representation in 2017"
   ]
  },
  {
   "cell_type": "markdown",
   "metadata": {},
   "source": [
    "A hypothesis could be, that women select into public sector jobs more readily, when gender pay gaps are large, as public sector job wages are regulated more intensely than private sector jobs, where employers can more easily influence (and potentially bias) wages."
   ]
  },
  {
   "cell_type": "code",
   "execution_count": null,
   "metadata": {},
   "outputs": [],
   "source": [
    "#create scatterplot of the income differences against fraction of women running for municipal board\n",
    "\n",
    "ax = result.plot.scatter(x='andel' , y='Wage',c='DarkBlue')\n",
    "plt.title('Correlation between wage gap and women running for municipal board')\n",
    "plt.xlabel('Share of women running for municipal board')\n",
    "plt.ylabel('Wage gap')\n",
    "plt.show()"
   ]
  },
  {
   "cell_type": "markdown",
   "metadata": {},
   "source": [
    "There is no clear support for the hypothesis, that a higher wage gap correlates with female candidates for municipal boards.\n",
    "This plot reveals significant outliers in wage gap, namely Gentofte 67%, Hørsholm 65.8%, and Rudersdal 57%. These are three small and very rich municipalities in Northern Zealand, that are most likely different in a number of ways. Possibly very rich men select into these municipalities, which may allow their spouses to reduce formal labor supply and instead produce in the household or in other informal markets (i.e. husbands firm, charity etc.)*.\n",
    "\n",
    "*This is a prejudice with no factual support presented nor seeked out."
   ]
  }
 ],
 "metadata": {
  "kernelspec": {
   "display_name": "Python 3",
   "language": "python",
   "name": "python3"
  },
  "language_info": {
   "codemirror_mode": {
    "name": "ipython",
    "version": 3
   },
   "file_extension": ".py",
   "mimetype": "text/x-python",
   "name": "python",
   "nbconvert_exporter": "python",
   "pygments_lexer": "ipython3",
   "version": "3.7.1"
  }
 },
 "nbformat": 4,
 "nbformat_minor": 2
}
