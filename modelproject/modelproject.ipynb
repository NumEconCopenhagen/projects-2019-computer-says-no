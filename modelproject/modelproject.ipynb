{
 "cells": [
  {
   "cell_type": "markdown",
   "metadata": {},
   "source": [
    "# Model Project: The Agents Labour Supply Decision\n"
   ]
  },
  {
   "cell_type": "markdown",
   "metadata": {},
   "source": [
    "In present project we seek to model the supply of labour by studying a two-good static problem, where agents value leisure and consumption. As an extension for the base model we impose a progressive tax system, which creates kinks in the budget constraint. We then show, how this may create bunching around tax bracket cut-offs."
   ]
  },
  {
   "cell_type": "markdown",
   "metadata": {},
   "source": [
    "The basic problem of the agents is:"
   ]
  },
  {
   "cell_type": "markdown",
   "metadata": {},
   "source": [
    "\n",
    "$$\\begin{aligned}  \\max_{c,l}\\ \\ &u(c,l) \\quad s.t. \\ \\ R_0 = wl + c  \\quad c,l\\geq0\\\\\n",
    " &\\dfrac{\\partial u}{\\partial a}= u_a>0 \\quad  \\wedge \\quad \\dfrac{\\partial^2 u}{\\partial a^2}=u_{aa}<0,  \\qquad a=c,l \\\\\n",
    " &R_0=W_0(T,w) + A_0 = w T + A_0\n",
    " \\end{aligned} $$\n",
    " "
   ]
  },
  {
   "cell_type": "markdown",
   "metadata": {},
   "source": [
    "Where $R_0$ is the income potential of the agent, $c$ the consumption which is a numeraire, $l$ is the amount of leisure consumed with the associated oppurtunity cost being the wage rate, $w$. We assume marginal utility of consumption and leisure are positive but decreasing. Further we for now assume the income potential is the sum of wage earning potential, $W_0$, which is the renumeration for working the entirety of the time endowment ($T$ units), plus non-labour income, $A_0$. Assuming constant wage $W_0=w\\times T$. <br> The problem is framed such that the agent at default suplies all his time as labour, giving her/him an income of $R_0$. The agent now has to decide how much leisure she/he will 'buy back', considering the consumption that is implied."
   ]
  },
  {
   "cell_type": "markdown",
   "metadata": {},
   "source": [
    "The Langrangian for the problem is:\n",
    "$$ \\mathcal{L}(c,l; \\lambda)= u(c,l)\\ + \\ \\lambda( R_0 - wl - c) $$ \n",
    "For which the first order conditions with regards to $c$ and $l$ implies an optimum at $\\dfrac{u_l}{u_c}=w$ as the constraint is binding."
   ]
  },
  {
   "cell_type": "markdown",
   "metadata": {},
   "source": [
    "## Numerical optimization"
   ]
  },
  {
   "cell_type": "markdown",
   "metadata": {},
   "source": [
    "We will solve this problem using a numerical optimizer, which will allow for easy handling of extensions to this basic model. "
   ]
  },
  {
   "cell_type": "markdown",
   "metadata": {},
   "source": [
    "Dependencies:"
   ]
  },
  {
   "cell_type": "code",
   "execution_count": 1,
   "metadata": {},
   "outputs": [],
   "source": [
    "import numpy as np\n",
    "import scipy as sp\n",
    "from scipy import linalg\n",
    "from scipy import optimize\n",
    "from scipy.optimize import Bounds\n",
    "import scipy.integrate as integrate\n",
    "%matplotlib inline\n",
    "import matplotlib.pyplot as plt\n",
    "from matplotlib import cm\n",
    "from mpl_toolkits.mplot3d import Axes3D"
   ]
  },
  {
   "cell_type": "markdown",
   "metadata": {},
   "source": [
    "First we code up two utility functions, a CES and a Cobb-Douglas, but any utility function that observes the above restrictions can be implemented."
   ]
  },
  {
   "cell_type": "code",
   "execution_count": 2,
   "metadata": {},
   "outputs": [],
   "source": [
    "# Cobb-Douglas:\n",
    "def  _cobbdouglas(c,l, alpha):\n",
    "    \"\"\" Cobb douglas utility function for 2 goods.\n",
    "    \n",
    "    INPUT:\n",
    "    \n",
    "    Parameters\n",
    "    alpha : relative preference for consumption to leisure\n",
    "    \n",
    "    Consumption bundle\n",
    "    c: consumption of goods\n",
    "    l: leisure\n",
    "\n",
    "    OUTPUT:\n",
    "    u: utility (negative)\"\"\"\n",
    "    u= (c**alpha)*l**(1-alpha)\n",
    "    return -u\n",
    "def  cobbdouglas(x,par):\n",
    "    return _cobbdouglas(c=x[0],l=x[1], alpha=par)\n",
    "\n",
    "# CES utility function:\n",
    "def _CES(c,l, a,r):\n",
    "    \"\"\" CES utility function for 2 goods.\n",
    "    INPUT:\n",
    "    \n",
    "    parameters\n",
    "    r: 1/(1-r) is the elasticity of substitution, r<=1.\n",
    "    a: relative preference for consumption (a=1 if a unit of consumption gives the same utility as a unit lesiure), 0<=a<=1.\n",
    "    \n",
    "    consumption bundle\n",
    "    c: consumption on goods (dollars spent)\n",
    "    l: leisure (hrs pr. week)\n",
    "\n",
    "    OUTPUT:\n",
    "    u: utility (neg) \"\"\"\n",
    "    u=(a*c**r + (1-a)*l**r)**(1/r)\n",
    "    return -u\n",
    "def CES(x, par):\n",
    "    \"\"\" Takes two tuples as argument:\n",
    "    ARGS\n",
    "    x 2-tuple:\n",
    "        x0= consumption\n",
    "        x1= leisure\n",
    "    par (2-tuple):\n",
    "        par[0]=a\n",
    "        par[1]=r\n",
    "\n",
    "    OUTPUT\n",
    "    utility from consumption\n",
    "    \"\"\"\n",
    "    return _CES(c=x[0],l=x[1], a=par[0],r=par[1]) "
   ]
  },
  {
   "cell_type": "markdown",
   "metadata": {},
   "source": [
    "We now have to define the constraints. Three moving parts are specified for the budget constraint (BC):<br>\n",
    "1) Wage function: returning the after tax wagerate for for a given level of leisure consumption.<br>\n",
    "2) Leisure expenditure function: returns the expenditure incurred from buying 'l' units of leisure. <br>\n",
    "3) The budget function: calculates the slack in budget given choices of leisure and consumption (the actual constraint). <br>"
   ]
  },
  {
   "cell_type": "code",
   "execution_count": 3,
   "metadata": {},
   "outputs": [],
   "source": [
    "# 1) Wage function: returning the after tax wagerate for for a given level of leisure consumption (the more leisure the lower taxrate = higher wagerate).<br>\n",
    "def wage_flat(l):\n",
    "    \"\"\" Marg. wage function with no taxation is (constant):\n",
    "        \n",
    "        PARAMETERS:\n",
    "        w: constant wage\n",
    "        ARGS:\n",
    "        l: leisure \n",
    "        \n",
    "        OUTPUT:\n",
    "        The marginal after tax wage rate\n",
    "    \"\"\"\n",
    "    return w\n",
    "#2) Leisure expenditure function:\n",
    "def leiexp(l,wage):\n",
    "    \"\"\" Calculates the expenditure from buying l units of leisure given a wage function as the definite integral\n",
    "    from 0 to l of the wage function.\n",
    "    ARGS:\n",
    "    l: leisure consumed (int)\n",
    "    Wage: Marginal wage-function (incoperating tax system) (function)\n",
    "    \n",
    "    OUTPUT:\n",
    "    leiexp: expenditure on leisure (int)\n",
    "    \"\"\"\n",
    "    return sp.integrate.quad(wage,0,l)[0]\n",
    "\n",
    "#3) Budget constraint\n",
    "def budget(x, wage, maxlabinc, leiexp):\n",
    "    \"\"\"The budget functin calculates the slack for consumption plan:\n",
    "    ARGS\n",
    "    x (2-tuple)\n",
    "         x[0]: consumption of good\n",
    "         x[1]: consumption of leisure\n",
    "    wage(l)  : marg. wage/price of leisure (function)\n",
    "    maxlabinc: Labour income from working T units of time (int)\n",
    "    leiexp   : leisure expenditure (function)\n",
    "    \n",
    "    OUTPUT:\n",
    "    slack: 'Leftover' given consumption plan x.\n",
    "    \"\"\"\n",
    "    c=x[0]\n",
    "    l=x[1]\n",
    "    R0= maxlabinc + A\n",
    "    slack= R0 - leiexp(l, wage) - c\n",
    "    return  slack\n",
    "def budget_func(wage,maxlabinc,leiexp):\n",
    "    \"\"\" Produces the budget constraint to input in maximizer.  It is a equality contraint -> slack shall be zero in optimum\n",
    "    as marg. utility of both goods is stricty positive.\n",
    "    \n",
    "    ARGS:\n",
    "    Wage: marg. wage function\n",
    "    maxlabinc: integral of wage fucntion from 0 to T\n",
    "    leiexp   : leisure expenditure (function)\n",
    "    \n",
    "    OUTPUT:\n",
    "    Budget Contraint: Dict. specifying the constraint to be used in scipy.optimize.minimize\n",
    "    \"\"\"\n",
    "    return {'type':'eq', 'fun':budget, 'args': [wage, maxlabinc,leiexp]} "
   ]
  },
  {
   "cell_type": "markdown",
   "metadata": {},
   "source": [
    "Note: 1) That we define the wage as a function this allows us to extend the model, 2) Expenditure on leisure is calculated as the definite integral of the wage function from 0 to l, this allows for altering the wage function\n",
    "3) we have yet to define the bounds on consumption/leisure, as these depend on T, we will define them within when parameters are chosen."
   ]
  },
  {
   "cell_type": "markdown",
   "metadata": {},
   "source": [
    "\n",
    "\n",
    "### Example: Cobb Douglas utility with constant wage\n",
    "For a Cobb-Douglas utility functions, $u(c,l)= c^\\alpha l^{1-\\alpha}$, the solution Marshallian demand functions are:\n",
    "$$c^*= w l \\left(\\dfrac{\\alpha}{1-\\alpha}\\right)=R_0 \\alpha \\qquad l^*=\\dfrac{R_0 (1-\\alpha)}{w}$$\n",
    "These can be obtained by isolating factor demand for one good from the optimum condition and inserting this into the budget constraint.\n",
    "However to initially test our program, we will compare the analytical solution for a particular set of parameters to the optimizer:"
   ]
  },
  {
   "cell_type": "code",
   "execution_count": 4,
   "metadata": {},
   "outputs": [],
   "source": [
    "# Budget related parameters\n",
    "T=10 # 10 units of time endowed\n",
    "w=10 # flat hourly wage of 10\n",
    "A=20 # 20 income from non labour sources\n",
    "maxlabinc=leiexp(T,wage_flat) #Calculates \n",
    "# Utility related parameters\n",
    "alpha=0.5 # Assuming\n",
    "\n",
    "# Optimizer setup:\n",
    "bounds= Bounds((0,0), (np.inf, T))"
   ]
  },
  {
   "cell_type": "markdown",
   "metadata": {},
   "source": [
    "Given these parameters, we find $R_0=10\\times10 + 20$, and analytical solution for optimal consumption choices are _$c^*=120\\times0.5=60$ and $l^*=\\dfrac{120\\times0.5}{10}=6$_. <br>\n",
    "The numerical optmization is performed by the 'SLSQP' algorithm for constrained optimization included in sci.py:"
   ]
  },
  {
   "cell_type": "code",
   "execution_count": 5,
   "metadata": {
    "scrolled": true
   },
   "outputs": [
    {
     "name": "stdout",
     "output_type": "stream",
     "text": [
      "Optimization terminated successfully.    (Exit mode 0)\n",
      "            Current function value: -18.97366596100426\n",
      "            Iterations: 8\n",
      "            Function evaluations: 32\n",
      "            Gradient evaluations: 8\n",
      "\n",
      "x =  [59.99995223  6.00000478]\n"
     ]
    }
   ],
   "source": [
    "guess=(5, 70) \n",
    "result = optimize.minimize(cobbdouglas,guess,args=alpha,\n",
    "                             method='SLSQP',\n",
    "                             constraints=[budget_func(wage_flat,maxlabinc,leiexp)],\n",
    "                             options={'disp':True}, bounds=bounds)\n",
    " \n",
    "\n",
    "print('\\nx = ',result.x)"
   ]
  },
  {
   "cell_type": "markdown",
   "metadata": {},
   "source": [
    "Deviations in the analytical and numerical solutions can be chalked up to numerical precision."
   ]
  },
  {
   "cell_type": "code",
   "execution_count": null,
   "metadata": {},
   "outputs": [],
   "source": []
  },
  {
   "cell_type": "markdown",
   "metadata": {},
   "source": [
    "## Progressive tax system\n",
    "\n",
    "First we code up a wage function, which accounts for changes in marginal taxation:"
   ]
  },
  {
   "cell_type": "code",
   "execution_count": 6,
   "metadata": {},
   "outputs": [],
   "source": [
    "#1) Wage function \n",
    "def wage_prog(l):\n",
    "    \"\"\" Wage function for a progressive tax system with allowing for two specified kinks\n",
    "        2 kinks (3 tax brackets).\n",
    "        \n",
    "        PARAMETERS:\n",
    "        cut1, cut2: cutoff for tax brackets defined by consumption of\n",
    "                    leisure.\n",
    "        w0,w1,w2: wage rates in the respective tax brackets.\n",
    "        \n",
    "        ARGS:\n",
    "        demand typle, x: x[0] cons, x[1] lesiure consumption\n",
    "        \n",
    "        OUTPUT:\n",
    "        w0,w1,w2: the appropriate marginal after tax wage rate\n",
    "    \"\"\"\n",
    "    if l < l_top:\n",
    "        return w*(1-toptax)\n",
    "    elif l_top<= l and l < l_bot:\n",
    "        return w*(1-bottax)\n",
    "    else:\n",
    "        return w\n",
    "\n",
    "#2b) leisure expenditure progressive function (analytical):\n",
    "def leiexp_prog(l,wage): \n",
    "    \"\"\" Returns the expenditure associated with buying 'l' units of leisure for the progressive tax system using the analytical \n",
    "    integral of the marginal wage function. \n",
    "    INPUTS\n",
    "    l   : amount of leisure consumed\n",
    "    wage: marg. wage function  NOT USED when the leisure expenditure is calculated analytically, but included such that \n",
    "          the program generalizes easily to other wage functions.\n",
    "    OUTPUT\n",
    "    leiexp : expenditure associated with buying leisure on the progressive tax system.\n",
    "    \"\"\"\n",
    "    if l < l_top:\n",
    "        return w*l_bot+w*(1-bottax)*(l_bot-l_top)+w*(1-toptax)*(l_top-l)\n",
    "    elif l_top<= l and l < l_bot:\n",
    "        return  w*l_bot+w*(1-bottax)*(l_bot-l)\n",
    "    else:\n",
    "        return w*l\n"
   ]
  },
  {
   "cell_type": "markdown",
   "metadata": {},
   "source": [
    "The tax system has 3 brackets: no tax, bottom tax and top tax. Due to the way we frame the problem, this amounts to the marginal cost of leisure increasing in the demand for leisure. This is to say, the more leisure an agent consumes the lower his marginal tax is (because earnings are low), thus the marginal price (after tax wage rate) of leisure increases the more leisure is consumed. This can be expressed as:\n",
    "$$w(l) = \\begin{cases} & w \\quad &\\text{for } l> l_{bottom} \\\\\n",
    "                       & w \\times (1-t_{bottom}) \\quad &\\text{for } l_{top} <l < l_{bottom}  \\\\\n",
    "                       & w \\times (1-t_{top}) \\quad &\\text{for } l < l_{top}  \\end{cases}, \\quad l_{bottom}> l_{top} \\ \\wedge \\ t_{bottom}<t_{top}$$\n",
    "\n",
    "We implement a tax system, where the first 1/3 of the time endowment supplied as labour is not taxed, the next 1/3 of time endowment is taxed in the bottom tax bracket, and additional labour is taxed in the top tax bracket. The marginal tax in the bottom tax bracket is set to 30% and in the top tax bracket to 60%. When framed as buying leisure this implies:\n",
    "\n",
    "$$w(l) = \\begin{cases} & w \\quad &\\text{for } l> T\\times \\dfrac{2}{3} \\\\\n",
    "                       & w \\times (1-0.3) \\quad &\\text{for } T \\times \\dfrac{2}{3} >l > T\\times \\dfrac{1}{3}  \\\\\n",
    "                       & w \\times (1-0.6) \\quad &\\text{for } T\\times \\dfrac{1}{3}>l  \\end{cases}$$\n",
    "\n",
    "In the example for constant wage we defined the leisure expenditure as the definite integral of the wage function, which was approximated numerically (SciPy). For this example will instead derive the integral analytically to ease computation down the road:\n",
    "$$ leisure\\_expenditure = \\begin{cases}  \\end{cases}$$"
   ]
  },
  {
   "cell_type": "markdown",
   "metadata": {},
   "source": [
    "Now we simulate agents with differing draws of $\\alpha$, where $\\alpha_i \\sim$ uniform$[0,1]$, and use numerical optmization to find their optimal consumption of leisure and goods:"
   ]
  },
  {
   "cell_type": "code",
   "execution_count": 11,
   "metadata": {
    "scrolled": true
   },
   "outputs": [
    {
     "ename": "NameError",
     "evalue": "name 'util' is not defined",
     "output_type": "error",
     "traceback": [
      "\u001b[1;31m---------------------------------------------------------------------------\u001b[0m",
      "\u001b[1;31mNameError\u001b[0m                                 Traceback (most recent call last)",
      "\u001b[1;32m<ipython-input-11-c7a2bbc245d8>\u001b[0m in \u001b[0;36m<module>\u001b[1;34m\u001b[0m\n\u001b[0;32m     17\u001b[0m \u001b[0mgoods_top\u001b[0m\u001b[1;33m=\u001b[0m \u001b[0mgoods\u001b[0m\u001b[1;33m(\u001b[0m\u001b[0ml_top\u001b[0m\u001b[1;33m)\u001b[0m   \u001b[1;31m# demand for goods at l_top leisure consumed\u001b[0m\u001b[1;33m\u001b[0m\u001b[1;33m\u001b[0m\u001b[0m\n\u001b[0;32m     18\u001b[0m \u001b[1;33m\u001b[0m\u001b[0m\n\u001b[1;32m---> 19\u001b[1;33m \u001b[0mKink_low\u001b[0m \u001b[1;33m=\u001b[0m \u001b[1;33m(\u001b[0m\u001b[0mutil\u001b[0m\u001b[1;33m(\u001b[0m\u001b[0mgoods_bot\u001b[0m\u001b[1;33m,\u001b[0m\u001b[0ml_bot\u001b[0m\u001b[1;33m)\u001b[0m\u001b[1;33m,\u001b[0m \u001b[0mgoods_bot\u001b[0m\u001b[1;33m,\u001b[0m \u001b[0ml_bot\u001b[0m\u001b[1;33m)\u001b[0m\u001b[1;33m\u001b[0m\u001b[1;33m\u001b[0m\u001b[0m\n\u001b[0m\u001b[0;32m     20\u001b[0m \u001b[0mkink_high\u001b[0m\u001b[1;33m=\u001b[0m \u001b[1;33m(\u001b[0m\u001b[0mutil\u001b[0m\u001b[1;33m(\u001b[0m\u001b[0mgoods_top\u001b[0m\u001b[1;33m,\u001b[0m\u001b[0ml_top\u001b[0m\u001b[1;33m)\u001b[0m\u001b[1;33m,\u001b[0m \u001b[0mgoods_top\u001b[0m\u001b[1;33m,\u001b[0m \u001b[0ml_top\u001b[0m\u001b[1;33m)\u001b[0m\u001b[1;33m\u001b[0m\u001b[1;33m\u001b[0m\u001b[0m\n\u001b[0;32m     21\u001b[0m \u001b[1;33m\u001b[0m\u001b[0m\n",
      "\u001b[1;31mNameError\u001b[0m: name 'util' is not defined"
     ]
    }
   ],
   "source": [
    "# Set wage function \n",
    "l_top= 1/3*T # Work more than 2/3 of your time and pay top tax\n",
    "l_bot= 2/3*T # work more than 1/3 of your time and pay bottom tax\n",
    "toptax= 0.6 # setting top tax\n",
    "bottax= 0.3 # setting bottom tax \n",
    "maxlabinc_prog=leiexp_prog(T,wage_prog) # calculate new max labour income\n",
    "R_0=maxlabinc_prog + A\n",
    "\n",
    "# Draw agents\n",
    "np.random.seed(2019); # set the seed\n",
    "n = 1000; # number of agents simulated\n",
    "alpha = np.random.uniform(0,1,size=n)\n",
    "\n",
    "# Compute utility and consumption bundle at kink points to safe computational (these are constant across agents)\n",
    "goods = lambda l: R_0 -leiexp_prog(l,wage_prog)  # calculates demand for goods given a level of leisure using left over budget\n",
    "goods_bot= goods(l_bot)   # demand for goods at l_bot leisure consumed\n",
    "goods_top= goods(l_top)   # demand for goods at l_top leisure consumed\n",
    "\n",
    "Kink_low = (cobbdou(goods_bot,l_bot), goods_bot, l_bot)\n",
    "kink_high= (util(goods_top,l_top), goods_top, l_top)\n",
    "\n",
    "# Run optimizer\n",
    "def solver_prog(util, par):\n",
    "    \"\"\" Runs SLSQP optimizer for a parameterization for each piecewise linear part of the budget constraint,\n",
    "        and evaluates the kink points aswell. \n",
    "   INPUT:\n",
    "   Util: Utility function of agents.\n",
    "   par: Parameters of the utility function (tuple if multipile); For cobddouglas an args=alpha (bt. 0 and 1),\n",
    "                                 For CES a 2-tuple, where par[0]=a  and par[1]=r, 0<=a<=1 and r <=1.\n",
    "   \"\"\"\n",
    "    # Optimize behaviour in no tax bracket (l_bot < l < T):\n",
    "    best_notax= optimize.minimize(util,guess,args=par,\n",
    "                             method='SLSQP',\n",
    "                             constraints=[budget_func(wage_prog,maxlabinc_prog,leiexp_prog)],\n",
    "                             options={'disp':False}, bounds=Bounds((0,l_bot), (np.inf, T)))\n",
    "    # Optimize behaviour in low tax bracket ( l_top < l <l_bot):\n",
    "    best_lowtax = optimize.minimize(util,guess,args=par,\n",
    "                             method='SLSQP',\n",
    "                             constraints=[budget_func(wage_prog,maxlabinc_prog,leiexp_prog)],\n",
    "                             options={'disp':False}, bounds=Bounds((0,l_top), (np.inf, l_bot)))\n",
    "    #Optimize behaviour in top tax bracket ( 0 < l < l_top):\n",
    "    best_hightax = optimize.minimize(util,guess,args=par,\n",
    "                             method='SLSQP',\n",
    "                             constraints=[budget_func(wage_prog,maxlabinc_prog,leiexp_prog)],\n",
    "                             options={'disp':False}, bounds=Bounds((0,0), (np.inf, l_top)))\n",
    "    #Evaluate utility at kink point between no tax and low tax (util(l=l_bot, c=R_0-leiexp(l_bot,wage)):\n",
    "                 \n",
    "    return result.x[1]\n",
    "\n",
    "results=np.array([solver(x) for x in alpha])"
   ]
  },
  {
   "cell_type": "code",
   "execution_count": 94,
   "metadata": {},
   "outputs": [],
   "source": [
    "results = results[np.logical_not(np.isnan(results))]\n"
   ]
  },
  {
   "cell_type": "code",
   "execution_count": 96,
   "metadata": {},
   "outputs": [
    {
     "data": {
      "text/plain": [
       "(array([0., 0., 0., 0., 0., 0., 0., 0., 0., 0., 0., 0., 0., 0., 0., 0., 0.,\n",
       "        0., 0., 0., 0., 0., 0., 0., 0., 0., 0., 0., 0., 0., 0., 0., 0., 0.,\n",
       "        0., 0., 0., 0., 0., 0., 0., 0., 0., 0., 0., 0., 0., 0., 0., 0.]),\n",
       " array([7.9999664 , 8.01996493, 8.03996346, 8.05996198, 8.07996051,\n",
       "        8.09995903, 8.11995756, 8.13995609, 8.15995461, 8.17995314,\n",
       "        8.19995167, 8.21995019, 8.23994872, 8.25994724, 8.27994577,\n",
       "        8.2999443 , 8.31994282, 8.33994135, 8.35993988, 8.3799384 ,\n",
       "        8.39993693, 8.41993545, 8.43993398, 8.45993251, 8.47993103,\n",
       "        8.49992956, 8.51992809, 8.53992661, 8.55992514, 8.57992367,\n",
       "        8.59992219, 8.61992072, 8.63991924, 8.65991777, 8.6799163 ,\n",
       "        8.69991482, 8.71991335, 8.73991188, 8.7599104 , 8.77990893,\n",
       "        8.79990745, 8.81990598, 8.83990451, 8.85990303, 8.87990156,\n",
       "        8.89990009, 8.91989861, 8.93989714, 8.95989566, 8.97989419,\n",
       "        8.99989272]),\n",
       " <a list of 50 Patch objects>)"
      ]
     },
     "execution_count": 96,
     "metadata": {},
     "output_type": "execute_result"
    },
    {
     "data": {
      "image/png": "[encoded data removed]",
      "text/plain": [
       "<Figure size 432x288 with 1 Axes>"
      ]
     },
     "metadata": {
      "needs_background": "light"
     },
     "output_type": "display_data"
    }
   ],
   "source": [
    "hist,bins = np.histogram(results,bins=50)\n",
    "plt.hist(hist, bins) "
   ]
  }
 ],
 "metadata": {
  "kernelspec": {
   "display_name": "Python 3",
   "language": "python",
   "name": "python3"
  },
  "language_info": {
   "codemirror_mode": {
    "name": "ipython",
    "version": 3
   },
   "file_extension": ".py",
   "mimetype": "text/x-python",
   "name": "python",
   "nbconvert_exporter": "python",
   "pygments_lexer": "ipython3",
   "version": "3.7.1"
  }
 },
 "nbformat": 4,
 "nbformat_minor": 2
}
