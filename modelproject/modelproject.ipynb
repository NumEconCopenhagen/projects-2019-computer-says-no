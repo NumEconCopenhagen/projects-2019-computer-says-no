{
 "cells": [
  {
   "cell_type": "markdown",
   "metadata": {},
   "source": [
    "# Model Project: The Agents Labour Supply Decision\n"
   ]
  },
  {
   "cell_type": "markdown",
   "metadata": {},
   "source": [
    "In present project we seek to model the supply of labour by studying a two-good static problem, where agents value leisure and consumption. As an extension for the base model we impose a progressive tax system, which creates kinks in the budget constraint. We then show, how this may create bunching around tax bracket cut-offs."
   ]
  },
  {
   "cell_type": "markdown",
   "metadata": {},
   "source": [
    "The basic problem of the agents is:"
   ]
  },
  {
   "cell_type": "markdown",
   "metadata": {},
   "source": [
    "\n",
    "$$\\begin{aligned}  \\max_{c,l}\\ \\ &u(c,l) \\quad s.t. \\ \\ R_0 = wl + c  \\quad c,l\\geq0\\\\\n",
    " &\\dfrac{\\partial u}{\\partial a}= u_a>0 \\quad  \\wedge \\quad \\dfrac{\\partial^2 u}{\\partial a^2}=u_{aa}<0,  \\qquad a=c,l \\\\\n",
    " &R_0=wT + A_0 \n",
    " \\end{aligned} $$\n",
    " "
   ]
  },
  {
   "cell_type": "markdown",
   "metadata": {},
   "source": [
    "Where $R_0$ is the income potential of the agent, $c$ the consumption which is a numeraire, $l$ is the amount of leisure consumed with the associated oppurtunity cost of being the wage rate, $w$. We assume marginal utility of consumption and leisure are positive but decreasing. Further we for now assume the income potential is the sum of wage earnings from working your entire time endowment, $T$, and non-labour income, $A_0$. The problem is framed such that the agent at default suplies all his time as labour, giving her/him an income of $R_0$. The agent now has to decide how much leisure she/he will 'buy back', considering the consumption potential which is implied."
   ]
  },
  {
   "cell_type": "markdown",
   "metadata": {},
   "source": [
    "The Langrangian for the problem is:\n",
    "$$ \\mathcal{L}(c,l; \\lambda)= u(c,l)\\ + \\ \\lambda( R_0 - wl - c) $$ \n",
    "For which the first order conditions with regards to $c$ and $l$ implies an optimum at $\\dfrac{u_l}{u_c}=w$ as the constraint is binding."
   ]
  },
  {
   "cell_type": "markdown",
   "metadata": {},
   "source": [
    "## Numerical optimization"
   ]
  },
  {
   "cell_type": "markdown",
   "metadata": {},
   "source": [
    "We will solve this problem using a numerical optimizer, which will allow for easy handling of extensions to this basic model. "
   ]
  },
  {
   "cell_type": "markdown",
   "metadata": {},
   "source": [
    "Dependencies:"
   ]
  },
  {
   "cell_type": "code",
   "execution_count": 20,
   "metadata": {},
   "outputs": [],
   "source": [
    "import numpy as np\n",
    "import scipy as sp\n",
    "from scipy import linalg\n",
    "from scipy import optimize\n",
    "from scipy.optimize import Bounds\n",
    "import scipy.integrate as integrate\n",
    "%matplotlib inline\n",
    "import matplotlib.pyplot as plt\n",
    "from matplotlib import cm\n",
    "from mpl_toolkits.mplot3d import Axes3D"
   ]
  },
  {
   "cell_type": "markdown",
   "metadata": {},
   "source": [
    "First we code up two utility functions, a CES and a Cobb-Douglas, but any utility function that observes the above restrictions can be implemented."
   ]
  },
  {
   "cell_type": "code",
   "execution_count": 21,
   "metadata": {},
   "outputs": [],
   "source": [
    "# Cobb-Douglas:\n",
    "def  _cobbdouglas(c,l):\n",
    "    \"\"\" Cobb douglas utility function for 2 goods.\n",
    "    PARAMETERS\n",
    "    alpha: income share spent on consumption\n",
    "    INPUT:\n",
    "    c: consumption\n",
    "    l: leisure\n",
    "\n",
    "    OUTPUT:\n",
    "    u: utility (negative)\"\"\"\n",
    "    u= (c**alpha)*l**(1-alpha)\n",
    "    return -u\n",
    "def  cobbdouglas(x):\n",
    "    return _cobbdouglas(c=x[0],l=x[1])\n",
    "\n",
    "# CES utility function:\n",
    "def _CES(c,l):\n",
    "    \"\"\" CES utility function for 2 goods.\n",
    "    PARAMETERS:\n",
    "    r: 1/(1-r) is the elasticity of substitution, r<=1.\n",
    "    a: relative preference for consumption (1 unit of consumption\n",
    "     gives the same utility as 1 unit lesiure), 0<=a<=1.\n",
    "    INPUT:\n",
    "    c: consumption (dollars spent)\n",
    "    l: leisure (hrs pr. week)\n",
    "\n",
    "    OUTPUT:\n",
    "    u: utility (neg) \"\"\"\n",
    "    u=(a*c**r + (1-a)*l**r)**(1/r)\n",
    "    return -u\n",
    "def CES(x):\n",
    "    \"\"\" Takes a tuple as argument:\n",
    "    ARGS\n",
    "    x is a 2x1\n",
    "    x0= consumption\n",
    "    x1= leisure\n",
    "    OUTPUT\n",
    "    utility from consumption\n",
    "    \"\"\"\n",
    "    return _CES(c=x[0],l=x[1]) "
   ]
  },
  {
   "cell_type": "markdown",
   "metadata": {},
   "source": [
    "We now have to define the constraints. Three moving parts are specified for the budget constraint (BC):<br>\n",
    "1) Wage function: returning the after tax wagerate for for a given level of leisure consumption (the more leisure the lower taxrate = higher wagerate).<br>\n",
    "2) Leisure expenditure function: returns the expenditure incurred from buying 'l' units of leisure. <br>\n",
    "3) The budget function: calculates the slack in budget given choices of leisure and consumption (the actual constraint). <br>"
   ]
  },
  {
   "cell_type": "code",
   "execution_count": 29,
   "metadata": {},
   "outputs": [],
   "source": [
    "# 1) Wage function: returning the after tax wagerate for for a given level of leisure consumption (the more leisure the lower taxrate = higher wagerate).<br>\n",
    "def wage(l):\n",
    "    \"\"\" Constant wage function:\n",
    "        \n",
    "        PARAMETERS:\n",
    "        w: constant wage\n",
    "        ARGS:\n",
    "        l: leisure \n",
    "        \n",
    "        OUTPUT:\n",
    "        The marginal after tax wage rate\n",
    "    \"\"\"\n",
    "    return w\n",
    "#2) Leisure expenditure function:\n",
    "def leiexp(l,wage):\n",
    "    \"\"\" Calculates the expenditure from buying l units of leisure given a wage function as the definite integral\n",
    "    from 0 to l of the wage function.\n",
    "    ARGS:\n",
    "    l: leisure consumed (int)\n",
    "    Wage: Marginal wage-function (incoperating tax system) (function)\n",
    "    \n",
    "    OUTPUT:\n",
    "    leiexp: expenditure on leisure (int)\n",
    "    \"\"\"\n",
    "    return sp.integrate.quad(wage,0,l)[0]\n",
    "\n",
    "#3) Budget constraint\n",
    "def budget(x):\n",
    "    \"\"\"The budget functin calculates the slack for consumption plan:\n",
    "    ARGS\n",
    "    x: (2-tuple)\n",
    "        x[0]: consumption of good\n",
    "        x[1]: consumption of leisure\n",
    "    \n",
    "    Other inputs:\n",
    "    A: non-labour income (int)\n",
    "    wage(l): marg. wage/price of leisure (function)\n",
    "    \n",
    "    OUTPUT:\n",
    "    slack: 'Leftover' given consumption plan x.\n",
    "    \"\"\"\n",
    "    c=x[0]\n",
    "    l=x[1]\n",
    "    R0= maxlabinc + A\n",
    "    slack= R0 - leiexp(l, wage) - c\n",
    "    return  slack\n",
    "budget_con={'type':'eq', 'fun':budget} # Impose equality contraint -> slack shall be zero in optimum"
   ]
  },
  {
   "cell_type": "markdown",
   "metadata": {},
   "source": [
    "Note: 1) that we define the wage as a function this allows us to extend the model, 2) we have yet to define the bounds on consumption/leisure, as these depend on T, we will define them within when parameters are chosen."
   ]
  },
  {
   "cell_type": "markdown",
   "metadata": {},
   "source": [
    "\n",
    "\n",
    "## Example: Cobb Douglas utility\n",
    "For a Cobb-Douglas utility functions, $u(c,l)= c^\\alpha l^{1-\\alpha}$, the solution Marshallian demand functions are:\n",
    "$$c^*= w l \\left(\\dfrac{\\alpha}{1-\\alpha}\\right)=R_0 \\alpha \\qquad l^*=\\dfrac{R_0 (1-\\alpha)}{w}$$\n",
    "These can be obtained by isolating factor demand for one good from the optimum condition and inserting this into the budget constraint.\n",
    "However to initially test our program, we will compare the analytical solution for a particular set of parameters to the optimizer:"
   ]
  },
  {
   "cell_type": "code",
   "execution_count": 31,
   "metadata": {},
   "outputs": [],
   "source": [
    "# Budget related parameters\n",
    "T=10 # 10 units of time endowed\n",
    "w=10 # flat hourly wage of 10\n",
    "A=20 # 20 income from non labour sources\n",
    "maxlabinc=leiexp(T,wage)\n",
    "# Utility related parameters\n",
    "alpha=0.5 # Assuming\n",
    "\n",
    "# Optimizer setup:\n",
    "bounds= Bounds([0,np.inf], {0, T})"
   ]
  },
  {
   "cell_type": "markdown",
   "metadata": {},
   "source": [
    "Given these parameters, we find $R_0=10\\times10 + 20$, and analytical solution for optimal consumption choices are $c^*=120\\times0.5=60$ and $l^*=\\dfrac{120\\times0.5}{10}=6$. <br>\n",
    "The numerical optmization is performed by the 'SLQP' algorithm for constrained optimization included in sci.py:"
   ]
  },
  {
   "cell_type": "code",
   "execution_count": 32,
   "metadata": {},
   "outputs": [
    {
     "name": "stdout",
     "output_type": "stream",
     "text": [
      "Optimization terminated successfully.    (Exit mode 0)\n",
      "            Current function value: -18.97366574611347\n",
      "            Iterations: 10\n",
      "            Function evaluations: 40\n",
      "            Gradient evaluations: 10\n",
      "\n",
      "x =  [59.99096963  6.00090304]\n"
     ]
    }
   ],
   "source": [
    "guess=(5, 70) \n",
    "result = optimize.minimize(cobbdouglas,guess,\n",
    "                             method='SLSQP',\n",
    "                             constraints=[budget_con],\n",
    "                             options={'disp':True})\n",
    " \n",
    "\n",
    "print('\\nx = ',result.x)\n"
   ]
  },
  {
   "cell_type": "markdown",
   "metadata": {},
   "source": [
    "Deviations in the analytical and numerical solutions can be chalked up to numerical precision."
   ]
  },
  {
   "cell_type": "code",
   "execution_count": null,
   "metadata": {},
   "outputs": [],
   "source": []
  }
 ],
 "metadata": {
  "kernelspec": {
   "display_name": "Python 3",
   "language": "python",
   "name": "python3"
  },
  "language_info": {
   "codemirror_mode": {
    "name": "ipython",
    "version": 3
   },
   "file_extension": ".py",
   "mimetype": "text/x-python",
   "name": "python",
   "nbconvert_exporter": "python",
   "pygments_lexer": "ipython3",
   "version": "3.7.1"
  }
 },
 "nbformat": 4,
 "nbformat_minor": 2
}
