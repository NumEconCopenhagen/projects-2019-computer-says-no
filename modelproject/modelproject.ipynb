{
 "cells": [
  {
   "cell_type": "markdown",
   "metadata": {},
   "source": [
    "# Model Project: The Agents Labour Supply Decision\n"
   ]
  },
  {
   "cell_type": "markdown",
   "metadata": {},
   "source": [
    "In present project we seek to model the supply of labour by studying a two-good static problem, where agents value leisure and consumption. As an extension for the base model we impose a progressive tax system, which creates kinks in the budget constraint. We then show, how this may create bunching around tax bracket cut-offs."
   ]
  },
  {
   "cell_type": "markdown",
   "metadata": {},
   "source": [
    "The basic problem of the agents is:"
   ]
  },
  {
   "cell_type": "markdown",
   "metadata": {},
   "source": [
    "\n",
    "$$\\begin{aligned}  \\max_{c,l}\\ \\ &u(c,l) \\quad s.t. \\ \\ R_0 = wl + c  \\quad c,l\\geq0\\\\\n",
    " &\\dfrac{\\partial u}{\\partial a}= u_a>0 \\quad  \\wedge \\quad \\dfrac{\\partial^2 u}{\\partial a^2}=u_{aa}<0,  \\qquad a=c,l \\\\\n",
    " &R_0=W_0(T,w) + A_0 = w T + A_0\n",
    " \\end{aligned} $$\n",
    " "
   ]
  },
  {
   "cell_type": "markdown",
   "metadata": {},
   "source": [
    "Where $R_0$ is the income potential of the agent, $c$ the consumption which is a numeraire, $l$ is the amount of leisure consumed with the associated oppurtunity cost being the wage rate, $w$. We assume marginal utility of consumption and leisure are positive but decreasing. Further we for now assume the income potential is the sum of wage earning potential, $W_0$, which is the renumeration for working the entirety of the time endowment ($T$ units), plus non-labour income, $A_0$. Assuming constant wage $W_0=w\\times T$. <br> The problem is framed such that the agent at default suplies all his time as labour, giving her/him an income of $R_0$. The agent now has to decide how much leisure she/he will 'buy back', considering the consumption that is implied."
   ]
  },
  {
   "cell_type": "markdown",
   "metadata": {},
   "source": [
    "The Langrangian for the problem is:\n",
    "$$ \\mathcal{L}(c,l; \\lambda)= u(c,l)\\ + \\ \\lambda( R_0 - wl - c) $$ \n",
    "For which the first order conditions with regards to $c$ and $l$ implies an optimum at $\\dfrac{u_l}{u_c}=w$ as the constraint is binding."
   ]
  },
  {
   "cell_type": "markdown",
   "metadata": {},
   "source": [
    "## Numerical optimization"
   ]
  },
  {
   "cell_type": "markdown",
   "metadata": {},
   "source": [
    "We will solve this problem using a numerical optimizer, which will allow for easy handling of extensions to this basic model. "
   ]
  },
  {
   "cell_type": "markdown",
   "metadata": {},
   "source": [
    "Dependencies:"
   ]
  },
  {
   "cell_type": "code",
   "execution_count": 1,
   "metadata": {},
   "outputs": [],
   "source": [
    "import numpy as np\n",
    "import scipy as sp\n",
    "from scipy import linalg\n",
    "from scipy import optimize\n",
    "from scipy.optimize import Bounds\n",
    "import scipy.integrate as integrate\n",
    "%matplotlib inline\n",
    "import matplotlib.pyplot as plt\n",
    "from matplotlib import cm\n",
    "from mpl_toolkits.mplot3d import Axes3D"
   ]
  },
  {
   "cell_type": "markdown",
   "metadata": {},
   "source": [
    "First we code up two utility functions, a CES and a Cobb-Douglas, but any utility function that observes the above restrictions can be implemented."
   ]
  },
  {
   "cell_type": "code",
   "execution_count": 2,
   "metadata": {},
   "outputs": [],
   "source": [
    "# Cobb-Douglas:\n",
    "def  _cobbdouglas(c,l, alpha):\n",
    "    \"\"\" Cobb douglas utility function for 2 goods.\n",
    "    \n",
    "    INPUT:\n",
    "    \n",
    "    Parameters\n",
    "    alpha : relative preference for consumption to leisure\n",
    "    \n",
    "    Consumption bundle\n",
    "    c: consumption of goods\n",
    "    l: leisure\n",
    "\n",
    "    OUTPUT:\n",
    "    u: utility (negative)\"\"\"\n",
    "    u= (c**alpha)*l**(1-alpha)\n",
    "    return -u\n",
    "def  cobbdouglas(x,par):\n",
    "    return _cobbdouglas(c=x[0],l=x[1], alpha=par)\n",
    "\n",
    "# CES utility function:\n",
    "def _CES(c,l, a,r):\n",
    "    \"\"\" CES utility function for 2 goods.\n",
    "    INPUT:\n",
    "    \n",
    "    parameters\n",
    "    r: 1/(1-r) is the elasticity of substitution, r<=1.\n",
    "    a: relative preference for consumption (a=1 if a unit of consumption gives the same utility as a unit lesiure), 0<=a<=1.\n",
    "    \n",
    "    consumption bundle\n",
    "    c: consumption on goods (dollars spent)\n",
    "    l: leisure (hrs pr. week)\n",
    "\n",
    "    OUTPUT:\n",
    "    u: utility (neg) \"\"\"\n",
    "    u=(a*c**r + (1-a)*l**r)**(1/r)\n",
    "    return -u\n",
    "def CES(x, par):\n",
    "    \"\"\" Takes two tuples as argument:\n",
    "    ARGS\n",
    "    x 2-tuple:\n",
    "        x0= consumption\n",
    "        x1= leisure\n",
    "    par (2-tuple):\n",
    "        par[0]=a\n",
    "        par[1]=r\n",
    "\n",
    "    OUTPUT\n",
    "    utility from consumption\n",
    "    \"\"\"\n",
    "    return _CES(c=x[0],l=x[1], a=par[0],r=par[1]) "
   ]
  },
  {
   "cell_type": "markdown",
   "metadata": {},
   "source": [
    "We now have to define the constraints. Three moving parts are specified for the budget constraint (BC):<br>\n",
    "1) Wage function: returning the after tax wagerate for for a given level of leisure consumption.<br>\n",
    "2) Leisure expenditure function: returns the expenditure incurred from buying 'l' units of leisure. <br>\n",
    "3) The budget function: calculates the slack in budget given choices of leisure and consumption (the actual constraint). <br>"
   ]
  },
  {
   "cell_type": "code",
   "execution_count": 3,
   "metadata": {},
   "outputs": [],
   "source": [
    "# 1) Wage function: returning the after tax wagerate for for a given level of leisure consumption (the more leisure the lower taxrate = higher wagerate).<br>\n",
    "def wage_flat(l):\n",
    "    \"\"\" Marg. wage function with no taxation is (constant):\n",
    "        \n",
    "        PARAMETERS:\n",
    "        w: constant wage\n",
    "        ARGS:\n",
    "        l: leisure \n",
    "        \n",
    "        OUTPUT:\n",
    "        The marginal after tax wage rate\n",
    "    \"\"\"\n",
    "    return w\n",
    "#2) Leisure expenditure function:\n",
    "def leiexp(l,wage):\n",
    "    \"\"\" Calculates the expenditure from buying l units of leisure given a wage function as the definite integral\n",
    "    from 0 to l of the wage function.\n",
    "    ARGS:\n",
    "    l: leisure consumed (int)\n",
    "    Wage: Marginal wage-function (incoperating tax system) (function)\n",
    "    \n",
    "    OUTPUT:\n",
    "    leiexp: expenditure on leisure (int)\n",
    "    \"\"\"\n",
    "    return sp.integrate.quad(wage,0,l)[0]\n",
    "\n",
    "#3) Budget constraint\n",
    "def budget(x, wage, maxlabinc, leiexp):\n",
    "    \"\"\"The budget functin calculates the slack for consumption plan:\n",
    "    ARGS\n",
    "    x (2-tuple)\n",
    "         x[0]: consumption of good\n",
    "         x[1]: consumption of leisure\n",
    "    wage(l)  : marg. wage/price of leisure (function)\n",
    "    maxlabinc: Labour income from working T units of time (int)\n",
    "    leiexp   : leisure expenditure (function)\n",
    "    \n",
    "    OUTPUT:\n",
    "    slack: 'Leftover' given consumption plan x.\n",
    "    \"\"\"\n",
    "    c=x[0]\n",
    "    l=x[1]\n",
    "    R0= maxlabinc + A\n",
    "    slack= R0 - leiexp(l, wage) - c\n",
    "    return  slack\n",
    "def budget_func(wage,maxlabinc,leiexp):\n",
    "    \"\"\" Produces the budget constraint to input in maximizer.  It is a equality contraint -> slack shall be zero in optimum\n",
    "    as marg. utility of both goods is stricty positive.\n",
    "    \n",
    "    ARGS:\n",
    "    Wage: marg. wage function\n",
    "    maxlabinc: integral of wage fucntion from 0 to T\n",
    "    leiexp   : leisure expenditure (function)\n",
    "    \n",
    "    OUTPUT:\n",
    "    Budget Contraint: Dict. specifying the constraint to be used in scipy.optimize.minimize\n",
    "    \"\"\"\n",
    "    return {'type':'eq', 'fun':budget, 'args': [wage, maxlabinc,leiexp]} "
   ]
  },
  {
   "cell_type": "markdown",
   "metadata": {},
   "source": [
    "Note: 1) That we define the wage as a function this allows us to extend the model, 2) Expenditure on leisure is calculated as the definite integral of the wage function from 0 to l, this allows for altering the wage function\n",
    "3) we have yet to define the bounds on consumption/leisure, as these depend on T, we will define them within when parameters are chosen."
   ]
  },
  {
   "cell_type": "markdown",
   "metadata": {},
   "source": [
    "\n",
    "\n",
    "### Example: Cobb Douglas utility with constant wage\n",
    "For a Cobb-Douglas utility functions, $u(c,l)= c^\\alpha l^{1-\\alpha}$, the solution Marshallian demand functions are:\n",
    "$$c^*= w l \\left(\\dfrac{\\alpha}{1-\\alpha}\\right)=R_0 \\alpha \\qquad l^*=\\dfrac{R_0 (1-\\alpha)}{w}$$\n",
    "These can be obtained by isolating factor demand for one good from the optimum condition and inserting this into the budget constraint.\n",
    "However to initially test our program, we will compare the analytical solution for a particular set of parameters to the optimizer:"
   ]
  },
  {
   "cell_type": "code",
   "execution_count": 4,
   "metadata": {},
   "outputs": [],
   "source": [
    "# Budget related parameters\n",
    "T=10 # 10 units of time endowed\n",
    "w=10 # flat hourly wage of 10\n",
    "A=20 # 20 income from non labour sources\n",
    "maxlabinc=leiexp(T,wage_flat) #Calculates \n",
    "# Assume alpha=0.5\n",
    "# Optimizer setup:\n",
    "bounds= Bounds((0,0), (np.inf, T))"
   ]
  },
  {
   "cell_type": "markdown",
   "metadata": {},
   "source": [
    "Given these parameters, we find $R_0=10\\times10 + 20$, and analytical solution for optimal consumption choices are _$c^*=120\\times0.5=60$ and $l^*=\\dfrac{120\\times0.5}{10}=6$_. <br>\n",
    "The numerical optmization is performed by the 'SLSQP' algorithm for constrained optimization included in sci.py:"
   ]
  },
  {
   "cell_type": "code",
   "execution_count": 5,
   "metadata": {
    "scrolled": true
   },
   "outputs": [
    {
     "name": "stdout",
     "output_type": "stream",
     "text": [
      "Optimization terminated successfully.    (Exit mode 0)\n",
      "            Current function value: -18.97366596100426\n",
      "            Iterations: 8\n",
      "            Function evaluations: 32\n",
      "            Gradient evaluations: 8\n",
      "\n",
      "x =  [59.99995223  6.00000478]\n"
     ]
    }
   ],
   "source": [
    "guess=(5, 70) \n",
    "result = optimize.minimize(cobbdouglas,guess,args=0.5,\n",
    "                             method='SLSQP',\n",
    "                             constraints=[budget_func(wage_flat,maxlabinc,leiexp)],\n",
    "                             options={'disp':True}, bounds=bounds)\n",
    " \n",
    "\n",
    "print('\\nx = ',result.x)"
   ]
  },
  {
   "cell_type": "markdown",
   "metadata": {},
   "source": [
    "Deviations in the analytical and numerical solutions can be chalked up to numerical precision."
   ]
  },
  {
   "cell_type": "markdown",
   "metadata": {},
   "source": [
    "## Progressive tax system\n",
    "\n",
    "First we code up a wage function, which accounts for changes in marginal taxation:"
   ]
  },
  {
   "cell_type": "code",
   "execution_count": 79,
   "metadata": {},
   "outputs": [],
   "source": [
    "#1) Wage function \n",
    "def wage_prog(l):\n",
    "    \"\"\" Wage function for a progressive tax system with allowing for two specified kinks\n",
    "        2 kinks (3 tax brackets).\n",
    "        \n",
    "        PARAMETERS:\n",
    "        cut1, cut2: cutoff for tax brackets defined by consumption of\n",
    "                    leisure.\n",
    "        w0,w1,w2: wage rates in the respective tax brackets.\n",
    "        \n",
    "        ARGS:\n",
    "        demand typle, x: x[0] cons, x[1] lesiure consumption\n",
    "        \n",
    "        OUTPUT:\n",
    "        w0,w1,w2: the appropriate marginal after tax wage rate\n",
    "    \"\"\"\n",
    "    if l < l_top:\n",
    "        return w*(1-toptax)\n",
    "    elif l_top<= l and l < l_bot:\n",
    "        return w*(1-bottax)\n",
    "    else:\n",
    "        return w\n",
    "\n",
    "#2b) leisure expenditure progressive function (analytical):\n",
    "def leiexp_prog(l,wage): \n",
    "    \"\"\" Returns the expenditure associated with buying 'l' units of leisure for the progressive tax system using the analytical \n",
    "    integral of the marginal wage function. \n",
    "    INPUTS\n",
    "    l   : amount of leisure consumed\n",
    "    wage: marg. wage function  NOT USED when the leisure expenditure is calculated analytically, but included such that \n",
    "          the program generalizes easily to other wage functions.\n",
    "    OUTPUT\n",
    "    leiexp : expenditure associated with buying leisure on the progressive tax system.\n",
    "    \"\"\"\n",
    "    if l < l_top:\n",
    "        return w*(1-toptax)*l\n",
    "    elif l_top<= l and l < l_bot:\n",
    "        return  w*(1-bottax)*(l-l_top)+w*(1-toptax)*l_top\n",
    "    else:\n",
    "        return w*(l-l_bot)+w*(1-bottax)*(l_bot-l_top)+w*(1-toptax)*(l_top)\n"
   ]
  },
  {
   "cell_type": "markdown",
   "metadata": {},
   "source": [
    "The tax system has 3 brackets: no tax, bottom tax and top tax. Due to the way we frame the problem, this amounts to the marginal cost of leisure increasing in the demand for leisure. This is to say, the more leisure an agent consumes the lower his marginal tax is (because earnings are low), thus the marginal price (after tax wage rate) of leisure increases the more leisure is consumed. This can be expressed as:\n",
    "$$w(l) = \\begin{cases} & w \\quad &\\text{for } l> l_{bottom} \\\\\n",
    "                       & w \\times (1-t_{bottom}) \\quad &\\text{for } l_{top} <l < l_{bottom}  \\\\\n",
    "                       & w \\times (1-t_{top}) \\quad &\\text{for } l < l_{top}  \\end{cases}, \\quad l_{bottom}> l_{top} \\ \\wedge \\ t_{bottom}<t_{top}$$\n",
    "\n",
    "We implement a tax system, where the first 1/3 of the time endowment supplied as labour is not taxed, the next 1/3 of time endowment is taxed in the bottom tax bracket, and additional labour is taxed in the top tax bracket. The marginal tax in the bottom tax bracket is set to 30% and in the top tax bracket to 60%. When framed as buying leisure this implies:\n",
    "\n",
    "$$w(l) = \\begin{cases} & w \\quad &\\text{for } l> T\\times \\dfrac{2}{3} \\\\\n",
    "                       & w \\times (1-0.3) \\quad &\\text{for } T \\times \\dfrac{2}{3} >l > T\\times \\dfrac{1}{3}  \\\\\n",
    "                       & w \\times (1-0.6) \\quad &\\text{for } T\\times \\dfrac{1}{3}>l  \\end{cases}$$\n",
    "\n",
    "In the example for constant wage we defined the leisure expenditure as the definite integral of the wage function, which was approximated numerically (SciPy). For this example will instead derive the integral analytically to ease computation down the road:\n",
    "$$ leisure\\_expenditure = \\begin{cases}  \\end{cases}$$"
   ]
  },
  {
   "cell_type": "markdown",
   "metadata": {},
   "source": [
    "Now we simulate agents with differing draws of $\\alpha$, where $\\alpha_i \\sim$ uniform$[0,1]$, and use numerical optmization to find their optimal consumption of leisure and goods:"
   ]
  },
  {
   "cell_type": "code",
   "execution_count": 93,
   "metadata": {
    "scrolled": false
   },
   "outputs": [
    {
     "name": "stdout",
     "output_type": "stream",
     "text": [
      "63.33333333333334 63.33333333333334\n",
      "20.0\n"
     ]
    }
   ],
   "source": [
    "# Set wage function \n",
    "l_top= 1/3*T # Work more than 2/3 of your time and pay top tax\n",
    "l_bot= 2/3*T # work more than 1/3 of your time and pay bottom tax\n",
    "toptax= 0.6 # setting top tax\n",
    "bottax= 0.5 # setting bottom tax \n",
    "maxlabinc_prog=leiexp_prog(T,wage_prog) # calculate new max labour income\n",
    "R_0=maxlabinc_prog + A\n",
    "\n",
    "# Draw agents\n",
    "np.random.seed(2019); # set the seed\n",
    "n = 1000; # number of agents simulated\n",
    "alpha = np.random.uniform(0,1,size=n)\n",
    "\n",
    "# Compute consumption bundle at kink points to safe computational\n",
    "goods = lambda l: R_0 - leiexp_prog(l,wage_prog)  # calculates demand for goods given a level of leisure using left over budget\n",
    "x_bot= (goods(l_bot), l_bot)   # consumption bundle at bottom tax kink.\n",
    "x_top= (goods(l_top), l_top) # consumption bundle at top tax kink.\n"
   ]
  },
  {
   "cell_type": "code",
   "execution_count": 87,
   "metadata": {},
   "outputs": [],
   "source": [
    "# Optimizer:\n",
    "def solverprog(util, par):\n",
    "    \"\"\" Runs SLSQP optimizer for a parameterization for each piecewise linear part of the budget constraint (3),\n",
    "    and evaluates the kink points (2) aswell, then compares and returns the best out these 5. \n",
    "    INPUT:\n",
    "    Util: Utility function of agents.\n",
    "    par: Parameters of the utility function (tuple if multipile); For cobddouglas an args=alpha (bt. 0 and 1),\n",
    "    For CES a 2-tuple, where par[0]=a  and par[1]=r, 0<=a<=1 and r <=1.\n",
    "    \"\"\"\n",
    "    # Optimize behaviour in no tax bracket (l_bot < l < T):\n",
    "    best_notax= optimize.minimize(util,guess,args=par,method='SLSQP', constraints=[budget_func(wage_prog,maxlabinc_prog,leiexp_prog)],\n",
    "                                options={'disp':False}, bounds=Bounds((0,l_bot), (np.inf, T)))\n",
    "    # Optimize behaviour in low tax bracket ( l_top < l <l_bot):\n",
    "    best_lowtax = optimize.minimize(util,guess,args=par, method='SLSQP', constraints=[budget_func(wage_prog,maxlabinc_prog,leiexp_prog)],\n",
    "                                options={'disp':False}, bounds=Bounds((0,l_top), (np.inf, l_bot)))\n",
    "    #Optimize behaviour in top tax bracket ( 0 < l < l_top):\n",
    "    best_hightax = optimize.minimize(util,guess,args=par, method='SLSQP', constraints=[budget_func(wage_prog,maxlabinc_prog,leiexp_prog)],\n",
    "                                options={'disp':False}, bounds=Bounds((0,0), (np.inf, l_top)))\n",
    "    #Evaluate utility at kink point between no tax and low tax (util(l=l_bot, c=R_0-leiexp(l_bot,wage)):\n",
    "    Kink_bot = util(x_bot,par) \n",
    "    kink_top= util(x_top,par)\n",
    "    \n",
    "    # Evaluate candidates and choose optimal bundle\n",
    "    candidates=np.array([[best_notax.fun, best_notax.x[0], best_notax.x[1]], [best_lowtax.fun, best_lowtax.x[0], best_lowtax.x[1]], [best_hightax.fun,best_hightax.x[0],best_hightax.x[1]], \n",
    "                         [Kink_bot, x_bot[0],x_bot[1]], [kink_top, x_top[0],x_top[1]]]) # Create array with all candidates where first element is utility\n",
    "                                                                                      # 2nd is the consumption bundle as a tuple.\n",
    "    best_cand=np.argmin(candidates,axis=0) # exstract row number for best bundle.\n",
    "    return candidates[best_cand[0],2]\n",
    "\n",
    "# Find optimal bundles for each simulated agent:\n",
    "results =[solverprog(cobbdouglas,par=x) for x in alpha] "
   ]
  },
  {
   "cell_type": "code",
   "execution_count": 88,
   "metadata": {},
   "outputs": [
    {
     "name": "stdout",
     "output_type": "stream",
     "text": [
      "[3.333333333303249, 7.2833691194324475, 6.666666666659744, 6.666666666658988, 3.333333333292656, 8.41008312679037, 6.666666666653227, 3.3333333333033623, 3.3333333333117814, 7.131313714369155, 6.666666666666666, 8.795238096576552, 9.999999999999918, 3.333333333296595, 10.0, 3.333333333251994, 9.99999999999986, 6.666666666662087, 9.586939955797849, 3.3333333332981323, 6.666666666663705, 6.666666666659581, 8.408754607907051, 3.3333333333159194, 6.666666666662902, 9.999999999999892, 8.662550985347963, 10.0, 6.666666666661851, 6.666666666663561, 3.333333333296337, 3.3333333332847084, 6.666666666654883, 3.333333333315984, 3.3333333332924044, 3.3333333333176065, 3.333333333311888, 3.333333333333333, 9.948252826922717, 8.520396376194963, 8.34635171034922, 10.0, 6.666666666661267, 3.3333333331789934, 8.120624228423551, 8.692307805266347, 6.666666666655747, 9.70332836409093, 6.66666666665864, 3.333333333318223, 9.185703564142434, 8.521906972221213, 7.406090726401328, 7.805051715107756, 8.054710083640094, 3.3333333332703154, 9.999999999999904, 3.333333333333333, 7.384607114784588, 6.666666666653926, 6.666666666666666, 6.666666666655191, 7.756862103635982, 3.333333333333333, 8.434792057390084, 8.992391417860995, 3.3333333333215966, 3.333333333333333, 6.788757973869008, 3.333333333333333, 8.04524204646278, 9.447541037141775, 6.937625396418023, 6.666666666661772, 3.3333333333032686, 3.333333333333333, 3.333333333276915, 8.953520449433892, 7.33889094760904, 8.908396602724258, 9.293598667495004, 9.656627469801807, 9.27825756767147, 6.666666666661954, 6.666666666661732, 6.6666666666512, 9.829669245782226, 8.069257187169143, 6.984813900678106, 7.027493158143509, 10.0, 3.333333333333333, 6.6666666666525085, 3.333333333258971, 6.666666666666666, 7.146454646337972, 3.333333333333333, 6.6666666666572, 8.004099288579841, 10.0, 9.999999999999934, 6.6666666666504755, 8.134679474571005, 3.333333333333333, 6.666666666658467, 9.905853792974963, 3.3333333332658244, 3.3333333333115713, 9.418439893256927, 9.042910109046181, 9.99999999999995, 3.333333333333333, 9.999999999999922, 8.009093948665255, 9.999999999999963, 3.333333333241691, 9.999999999999888, 10.0, 8.435077982635406, 6.666666666666666, 8.481717366444235, 3.333333333264284, 9.636519500446663, 6.66666666665851, 9.645114403686325, 9.999999999999977, 3.3333333332410584, 6.666666666658449, 3.333333333305845, 9.17024511904565, 10.0, 6.666666666660465, 10.0, 10.0, 3.333333333333333, 6.666666666666666, 6.666666666652118, 3.3333333332826323, 9.581084177623701, 8.09440269680716, 3.333333333295234, 3.333333333333333, 3.3333333332916455, 6.82276147279653, 6.666666666658426, 10.0, 6.666666666663083, 6.666666666662113, 7.898225126320011, 9.999999999999902, 9.69340223063139, 10.0, 6.666666666666666, 3.333333333313918, 6.666666666653836, 6.666666666654744, 9.631786644864844, 3.333333333268575, 9.999999999999895, 9.599273032210546, 7.0396575232227745, 6.666666666658067, 9.99999999999993, 6.666666666660284, 6.666666666666666, 10.0, 6.666666666661764, 7.091707567322146, 10.0, 3.3333333333051254, 6.6666666666625245, 6.6666666666622465, 9.999999999999986, 9.999999999999911, 3.333333333305397, 9.123770449455709, 7.204379837557061, 3.333333333333333, 9.947264910801373, 6.666666666666666, 3.3333333332844224, 3.333333333333333, 6.666666666666666, 6.709642315300599, 3.3333333332546347, 9.738085673216524, 9.398881172800813, 3.3333333332919053, 3.3333333332525457, 9.999999999999934, 10.0, 9.746965692902451, 3.3333333332996347, 8.109480475547283, 6.66666666665733, 10.0, 3.333333333333333, 9.82993461589948, 6.666666666664137, 6.666666666656015, 6.666666666661805, 7.059422847468199, 8.742355155909216, 6.666666666659192, 6.666666666656321, 6.807914661324097, 3.333333333270152, 6.963348208455454, 3.333333333333333, 6.666666666665735, 6.6666666666631444, 3.333333333282399, 3.333333333292297, 6.666666666663186, 3.3333333333262907, 3.333333333333333, 7.607325387851325, 6.938563241352874, 6.666666666663712, 10.0, 6.666666666661575, 10.0, 3.333333333322608, 6.876840700400371, 9.044880288578657, 6.66666666665178, 6.666666666658586, 6.6666666666624765, 3.3333333332823023, 6.666666666662418, 7.081617577905185, 6.666666666666666, 8.63680940000101, 3.333333333294938, 10.0, 9.424022193738073, 6.7300043776359635, 6.66666666665812, 6.666666666666666, 3.333333333333333, 3.3333333332595276, 9.999999999999948, 6.666666666663107, 10.0, 6.666666666651288, 3.3333333332726984, 10.0, 3.333333333333333, 8.212125781878278, 3.3333333332727464, 6.666666666666666, 6.666666666659054, 9.999999999999947, 3.3333333332840893, 3.3333333333074906, 10.0, 6.666666666659857, 7.159243539307275, 6.666666666661413, 10.0, 3.333333333333333, 10.0, 6.666666666664569, 3.3333333332994433, 6.66666666665701, 3.333333333296756, 3.333333333333333, 6.666666666666666, 8.707154200741888, 9.999999999999986, 7.990718550715417, 6.666666666661515, 3.333333333322992, 3.333333333333333, 9.439390772244344, 3.333333333333333, 3.3333333332627966, 6.780057272119524, 3.33333333331273, 6.6666666666628185, 9.160406397546335, 10.0, 3.333333333333333, 6.666666666656767, 3.333333333275717, 6.66666666666611, 8.843379799213066, 9.788967653268942, 3.333333333333333, 7.3887753877565645, 8.578051885393233, 3.333333333333333, 6.979961249237407, 10.0, 3.333333333333333, 7.634734227915678, 8.691718022681068, 3.3333333332860735, 9.72122924207778, 3.3333333333115105, 6.666666666664076, 7.784194814601296, 6.666666666659684, 9.062960267127085, 3.333333333333333, 6.6666666666584655, 3.333333333308964, 6.666666666666666, 6.66666666665765, 9.999999999999964, 6.666666666657741, 9.111554576962714, 6.666666666653473, 6.666666666658253, 3.3333333333316064, 3.333333333319235, 3.333333333333333, 7.750503652237176, 7.380196345146107, 9.999999999999899, 9.037506445268315, 6.666666666663458, 8.930383967240681, 6.666666666663948, 3.333333333333333, 3.3333333332732136, 6.666666666652341, 3.333333333333333, 8.490120945576102, 6.666666666656947, 7.336141852045504, 10.0, 8.0919767667623, 9.660708394515382, 3.3333333333128685, 3.333333333307307, 7.7839505909444835, 3.3333333332989645, 3.333333333271511, 9.977116913695355, 3.333333333333333, 3.333333333318483, 3.3333333332984685, 6.66666666665448, 9.999999999999932, 9.44568098411572, 7.782854478789849, 3.333333333333333, 7.915113116589068, 10.0, 3.333333333333333, 10.0, 3.3333333332447603, 9.235820455036158, 3.3333333333009945, 6.666666666662229, 9.823549288135434, 9.999999999999973, 9.460602677856048, 3.333333333333333, 7.657976490673504, 3.333333333333333, 8.084808518676057, 9.999999999999936, 10.0, 8.903519808104702, 10.0, 3.333333333290182, 6.804186985638706, 6.666666666666666, 9.999999999999895, 9.594911464493428, 6.76100585907273, 7.239950377588487, 6.749742465864849, 6.666666666654314, 9.999999999999911, 9.99999999999992, 3.333333333313502, 3.333333333333333, 9.999999999999996, 3.333333333333333, 9.999999999999872, 3.3333333333188966, 3.3333333332868023, 6.66666666666365, 10.0, 3.333333333333333, 9.999999999999945, 9.99999999999989, 6.66666666666286, 9.999999999999988, 6.666666666655414, 6.666666666656206, 6.666666666659885, 6.666666666662747, 7.868870250681276, 8.155795734951537, 3.333333333333333, 3.333333333285345, 3.3333333332857724, 8.490643217764168, 3.3333333332511526, 9.999999999999986, 10.0, 6.666666666666666, 3.33333333326038, 3.33333333324666, 6.666666666651928, 6.666666666657138, 6.666666666664123, 3.333333333333333, 6.666666666659476, 3.333333333333333, 3.333333333333333, 6.666666666663325, 8.514420408808014, 6.877646150852543, 6.666666666654198, 3.333333333333333, 6.666666666661629, 3.3333333332897044, 7.481171191761588, 6.918027102391201, 9.999999999999915, 9.999999999999924, 6.666666666655571, 3.333333333308481, 3.3333333332591706, 6.666666666657955, 9.999999999999948, 10.0, 6.794847982666505, 6.8423208876168475, 7.370504359549605, 3.333333333333333, 9.999999999999948, 3.333333333333333, 9.999999999999966, 6.977501839881663, 6.666666666661434, 9.999999999999938, 3.333333333295367, 3.333333333333333, 3.333333333311469, 3.3333333333124733, 8.433665262579616, 7.367559128424109, 6.666666666654178, 3.333333333292002, 9.404301373091622, 6.666666666664901, 3.333333333301553, 6.982820650293242, 3.333333333333333, 6.666666666663118, 6.666666666656296, 6.666666666654338, 6.666666666654233, 6.666666666666666, 10.0, 8.534507198649965, 6.66666666665631, 3.333333333292186, 6.66666666665033, 9.999999999999865, 3.333333333284835, 9.611427837811735, 7.4197862178047815, 9.229818634644213, 9.755318869599938, 9.999999999999902, 9.599194004575732, 6.666666666658401, 6.666666666666666, 7.025399017936418, 7.763772088440644, 3.333333333333333, 7.6559876100371245, 10.0, 9.999999999999945, 3.333333333333333, 3.3333333332540236, 9.999999999999945, 6.66666666665963, 6.666666666660948, 8.470670799062548, 9.883217456120097, 3.333333333333333, 6.82209821997351, 7.772110364901369, 7.774485312747291, 8.187627604336999, 6.666666666660012, 3.333333333333333, 6.6666666666572, 6.6666666666563765, 6.669970327137255, 9.999999999999947, 7.13689570017752, 7.218144821962182, 3.333333333333333, 9.999999999999975, 6.666666666659997, 9.951146032285708, 9.30208659428854, 9.454219897930594, 8.985739537775471, 3.333333333255306, 3.333333333314106, 3.333333333286922, 7.147765102992645, 3.333333333263318, 3.333333333333333, 9.820661652030179, 9.999999999999986, 3.333333333322336, 3.333333333333333, 7.580648859109159, 6.9279247788053855, 6.666666666657661, 9.999999999999922, 3.333333333286106, 6.666666666666666, 3.333333333304766, 3.3333333332997026, 9.999999999999979, 3.3333333333154576, 10.0, 10.0, 6.666666666663799, 3.3333333333217783, 3.3333333333207342, 6.666666666655386, 7.0025446305879875, 6.66666666666133, 3.333333333333333, 6.666666666652465, 10.0, 7.970053278740542, 3.333333333333333, 8.494849053261204, 6.666666666661362, 10.0, 8.374313896895137, 9.999999999999995, 7.47314672404773, 3.333333333333333, 9.999999999999925, 6.666666666653963, 3.3333333333195054, 10.0, 6.666666666666666, 7.756379101995902, 8.050464520680887, 9.713210228374717, 3.3333333332515283, 6.666666666662407, 3.3333333333091604, 9.88026608531607, 3.3333333332634414, 3.3333333333013435, 6.666666666666666, 3.333333333333333, 9.999999999999906, 6.666666666662785, 9.404983957450344, 7.312746345899056, 6.6666666666605305, 3.333333333272697, 9.418589157488853, 6.666666666657818, 8.01905282056849, 3.333333333333333, 9.999999999999913, 9.521781695511095, 6.666666666660291, 3.333333333333333, 6.666666666662046, 6.66666666665572, 3.3333333332949526, 6.952701383643518, 3.333333333333333, 10.0, 6.66666666666257, 8.62620617126607, 8.121090283581733, 3.3333333332769555, 6.666666666660024, 8.381783596894314, 6.666666666662814, 6.666666666663226, 7.9027975966563835, 6.875592666223098, 7.542768293673063, 10.0, 3.3333333333046005, 9.31071314614594, 6.666666666657705, 10.0, 7.516011283794295, 6.666666666653746, 3.3333333332906356, 3.33333333323867, 6.666666666656032, 6.666666666651822, 6.66666666665812, 3.333333333304292, 8.644850661904474, 10.0, 7.7244948377050235, 8.463369931055253, 6.666666666666666, 6.6666666666611745, 9.999999999999982, 9.024710142518343, 9.999999999999936, 9.999999999999885, 7.637731012418085, 10.0, 3.333333333333333, 8.60778953698914, 7.858995456979866, 3.333333333311457, 9.999999999999988, 3.333333333290032, 6.666666666662428, 8.175505490141674, 6.666666666665472, 9.999999999999991, 7.745998285310788, 6.666666666666666, 6.666666666661109, 6.666666666666666, 9.53382737612875, 6.666666666660181, 9.99999999999994, 6.6666666666543355, 9.999999999999922, 3.333333333333333, 3.333333333333333, 7.269360665490428, 9.555592626090558, 6.666666666666666, 3.3333333332410913, 6.666666666665346, 10.0, 6.673868513374083, 3.333333333333333, 9.252383683760257, 3.333333333333333, 3.333333333333333, 6.9100677560629595, 3.333333333333333, 6.937016502048064, 8.844075628187037, 6.666666666663189, 6.666666666666668, 9.999999999999995, 3.3333333332935027, 9.999999999999966, 6.666666666660878, 3.333333333333333, 3.333333333321795, 6.666666666651469, 6.666666666662248, 9.302820830893179, 10.0, 10.0, 10.0, 8.519635564849908, 7.3238563941916235, 8.572023241851628, 3.333333333333333, 9.999999999999996, 3.333333333333333, 8.540596224764577, 9.999999999999975, 9.724531479171022, 6.666666666666666, 9.999999999999956, 6.666666666661207, 8.252990961950216, 6.666666666666671, 6.666666666660942, 8.817381733111164, 6.666666666660751, 3.333333333311449, 3.333333333333333, 6.666666666666666, 10.0, 10.0, 7.829345807974172, 10.0, 7.103692053984377, 6.666666666657382, 6.666666666665107, 6.666666666655556, 7.755779945575092, 9.799431277120165, 6.666666666660528, 9.840867957995869, 3.333333333333333, 3.3333333333178556, 6.666666666666666, 3.333333333253955, 8.367117487047663, 3.333333333333333, 6.666666666659522, 6.66666666665722, 10.0, 9.298623367288508, 10.0, 6.666666666655289, 3.3333333333194863, 3.333333333296617, 6.666666666666666, 6.666666666654687, 6.666666666666666, 6.666666666666666, 10.0, 7.761615554484107, 10.0, 6.666666666662409, 3.333333333333333, 3.333333333333333, 3.333333333333333, 3.3333333333179938, 3.333333333310556, 8.816190131664042, 3.3333333332774595, 6.666666666662063, 3.333333333333333, 3.3333333333124084, 8.403986442976793, 7.934795035509971, 3.333333333333333, 10.0, 6.666666666660781, 3.3333333332723156, 8.862159768253699, 6.666666666660401, 9.115135100144723, 9.425359189694877, 3.3333333333092128, 3.3333333332876403, 9.242188268192189, 7.35357980089317, 6.666666666666666, 9.181756158469739, 7.397722249271216, 6.6666666666628425, 7.4784186939523085, 9.07955385048987, 10.0, 6.666666666664898, 7.03475904501179, 8.296781711357795, 3.333333333333333, 6.666666666665104, 6.666666666666666, 6.666666666663005, 9.999999999999863, 6.666666666662941, 6.666666666656491, 7.90450981539456, 7.315954264588581, 9.420766160648906, 3.333333333333333, 8.154991440253093, 3.3333333332432695, 6.666666666657913, 3.3333333332900383, 9.99999999999999, 3.3333333333020057, 9.897419763159458, 3.333333333333333, 3.3333333333163457, 6.666666666666666, 7.336655906253895, 10.0, 8.34551566010159, 9.558072369769313, 9.999999999999861, 6.666666666653672, 6.666666666665742, 3.333333333333333, 6.666666666663227, 6.915611310731552, 8.929204135919516, 3.3333333332803248, 6.793427055562888, 10.0, 6.666666666663644, 3.3333333332200317, 6.6666666666647725, 6.66666666665335, 6.666666666654543, 10.0, 6.666666666666666, 9.99999999999982, 3.33333333325895, 10.0, 6.66666666665967, 6.666666666654547, 6.666666666666666, 3.3333333332971646, 8.362726846476258, 9.999999999999886, 3.333333333333333, 3.3333333332931807, 3.3333333333208213, 6.66666666665614, 6.666666666666666, 7.064509194399398, 10.0, 10.0, 6.666666666662788, 6.666666666666666, 9.99999999999999, 6.666666666660319, 9.689174593838853, 6.666666666658476, 7.544786940767015, 8.738289774547903, 9.999999999999908, 3.333333333333333, 3.3333333332812645, 10.0, 6.6666666666543195, 6.666666666655769, 9.517546349285338, 3.3333333333191173, 6.66666666666181, 6.666666666656808, 6.666666666666667, 8.16806690040587, 6.666666666662018, 6.666666666659698, 9.305227284533883, 6.666666666652847, 9.9999999999999, 3.333333333303635, 6.666666666666666, 3.3333333332378134, 7.9325188421714365, 3.333333333261891, 3.333333333333333, 10.0, 6.6666666666536685, 6.666666666662871, 6.666666666666666, 8.607212647431405, 3.333333333333333, 3.3333333332501374, 6.6666666666568934, 7.2031149626092805, 6.66666666666216, 3.333333333333333, 6.666666666666666, 8.77082017973246, 10.0, 7.607688751881026, 6.666666666660749, 6.666666666654693, 3.333333333333333, 10.0, 6.666666666666668, 3.333333333333333, 3.333333333333333, 7.5495850737233585, 10.0, 6.666666666655395, 6.666666666657127, 3.3333333332822352, 3.3333333332877726, 9.81289154907476, 6.666666666663692, 3.333333333333333, 9.955977204913513, 6.666666666662135, 7.4888700080452395, 3.333333333310982, 7.05687961016008, 3.333333333313483, 9.999999999999899, 9.999999999999883, 9.083234467757114, 10.0, 3.3333333333106148, 3.3333333333009745, 3.33333333329457, 9.363184541979411, 3.333333333327054, 8.077601644466053, 6.666666666665765, 6.666666666666666, 6.666666666666666, 7.004563343428746, 8.764328224797085, 6.666666666666666, 9.62699829072619, 9.520569060512205, 3.333333333333333, 6.666666666657988, 9.999999999999956, 7.071300049025178, 9.365993717472378, 7.494835576610629, 3.3333333332974244, 9.54898070564501, 6.759808073647575, 3.333333333278243, 9.290251208613723, 6.666666666660216, 6.666666666660746, 6.6666666666621115, 6.666666666666668, 6.666666666657356, 10.0, 9.999999999999934, 7.581624798478041, 6.666666666660124, 6.6666666666611505, 3.333333333333333, 10.0, 7.484320311209308, 3.333333333333333, 9.99999999999993, 6.666666666662662, 9.08850503831374, 3.333333333333333, 3.333333333333333, 6.666666666666667, 6.666666666662022, 6.666666666666666, 9.310535440351702, 6.66666666666435, 7.314579350664546, 6.666666666661636, 9.99999999999987, 8.997864717013243, 10.0, 10.0, 3.333333333333333, 6.694606297856017, 9.999999999999918, 6.666666666660316, 8.315021927170173, 8.184499875792268, 8.825579318137393, 6.666666666658522, 8.389493073489195, 6.666666666653815, 3.3333333333026904, 9.999999999999975, 6.666666666662123, 6.666666666666666, 8.904823528626013, 6.666666666655935, 6.666666666661463, 6.6917941387400575, 3.333333333277317, 6.666666666661319, 6.666666666657687, 3.333333333333333, 6.666666666659686, 6.666666666662782, 6.666666666657798, 3.3333333331935977, 6.666666666666667, 6.666666666652098, 9.787058406320705, 3.333333333293052, 7.902887688908098, 3.3333333332930413, 3.333333333333333, 8.297542048255433, 7.938739183349827, 10.0, 6.666666666657971, 6.666666666666666, 3.333333333333333, 8.424114975636405, 8.834063416806334, 3.333333333333333, 9.282852111301985, 8.656462809840836, 3.3333333332910917, 3.3333333333158435, 9.951638260281912, 6.6666666666599035, 7.625991415403627, 3.333333333282305, 6.666666666662801, 6.862622180749405, 9.017421910623312, 3.3333333332925026, 3.3333333333290036, 3.3333333332492994]\n"
     ]
    }
   ],
   "source": [
    "print(results)"
   ]
  },
  {
   "cell_type": "code",
   "execution_count": 89,
   "metadata": {},
   "outputs": [
    {
     "data": {
      "text/plain": [
       "(array([271.,   0.,   0.,   0.,   0.,   0.,   0.,   0.,   0.,   0.,   0.,\n",
       "          0.,   0.,   0.,   0.,   0.,   0.,   0.,   0.,   0.,   0.,   0.,\n",
       "          0.,   0.,   0.,   0.,   0.,   0.,   0.,   0.,   0.,   0.,   0.,\n",
       "          0.,   0.,   0.,   0.,   0.,   0.,   0.,   0.,   0.,   0.,   0.,\n",
       "          0.,   0.,   0.,   0.,   0.,   0., 282.,   7.,   6.,   7.,   9.,\n",
       "          9.,   5.,   4.,   4.,   6.,  10.,   2.,   7.,   5.,   7.,   1.,\n",
       "         12.,   3.,   7.,   4.,   6.,   8.,   7.,   2.,   3.,   7.,   8.,\n",
       "          9.,   4.,   7.,   3.,   5.,   7.,   5.,   4.,   6.,   6.,   4.,\n",
       "          4.,  10.,   3.,  12.,   3.,   9.,   7.,   6.,   6.,   6.,   4.,\n",
       "        161.]),\n",
       " array([ 3.33333333,  3.4       ,  3.46666667,  3.53333333,  3.6       ,\n",
       "         3.66666667,  3.73333333,  3.8       ,  3.86666667,  3.93333333,\n",
       "         4.        ,  4.06666667,  4.13333333,  4.2       ,  4.26666667,\n",
       "         4.33333333,  4.4       ,  4.46666667,  4.53333333,  4.6       ,\n",
       "         4.66666667,  4.73333333,  4.8       ,  4.86666667,  4.93333333,\n",
       "         5.        ,  5.06666667,  5.13333333,  5.2       ,  5.26666667,\n",
       "         5.33333333,  5.4       ,  5.46666667,  5.53333333,  5.6       ,\n",
       "         5.66666667,  5.73333333,  5.8       ,  5.86666667,  5.93333333,\n",
       "         6.        ,  6.06666667,  6.13333333,  6.2       ,  6.26666667,\n",
       "         6.33333333,  6.4       ,  6.46666667,  6.53333333,  6.6       ,\n",
       "         6.66666667,  6.73333333,  6.8       ,  6.86666667,  6.93333333,\n",
       "         7.        ,  7.06666667,  7.13333333,  7.2       ,  7.26666667,\n",
       "         7.33333333,  7.4       ,  7.46666667,  7.53333333,  7.6       ,\n",
       "         7.66666667,  7.73333333,  7.8       ,  7.86666667,  7.93333333,\n",
       "         8.        ,  8.06666667,  8.13333333,  8.2       ,  8.26666667,\n",
       "         8.33333333,  8.4       ,  8.46666667,  8.53333333,  8.6       ,\n",
       "         8.66666667,  8.73333333,  8.8       ,  8.86666667,  8.93333333,\n",
       "         9.        ,  9.06666667,  9.13333333,  9.2       ,  9.26666667,\n",
       "         9.33333333,  9.4       ,  9.46666667,  9.53333333,  9.6       ,\n",
       "         9.66666667,  9.73333333,  9.8       ,  9.86666667,  9.93333333,\n",
       "        10.        ]),\n",
       " <a list of 100 Patch objects>)"
      ]
     },
     "execution_count": 89,
     "metadata": {},
     "output_type": "execute_result"
    },
    {
     "data": {
      "image/png": "[encoded data removed]",
      "text/plain": [
       "<Figure size 432x288 with 1 Axes>"
      ]
     },
     "metadata": {
      "needs_background": "light"
     },
     "output_type": "display_data"
    }
   ],
   "source": [
    "plt.hist(results, bins=100) "
   ]
  },
  {
   "cell_type": "code",
   "execution_count": 94,
   "metadata": {},
   "outputs": [
    {
     "data": {
      "text/plain": [
       "3.3333333332499997"
      ]
     },
     "execution_count": 94,
     "metadata": {},
     "output_type": "execute_result"
    }
   ],
   "source": [
    "solverprog(cobbdouglas,par=1)"
   ]
  },
  {
   "cell_type": "code",
   "execution_count": 96,
   "metadata": {},
   "outputs": [],
   "source": [
    "alpha1=np.linspace(0,1,100)"
   ]
  },
  {
   "cell_type": "code",
   "execution_count": 99,
   "metadata": {},
   "outputs": [
    {
     "name": "stdout",
     "output_type": "stream",
     "text": [
      "[9.999999999999948, 9.999999999999938, 10.0, 9.999999999999922, 9.999999999999932, 10.0, 9.999999999999934, 10.0, 9.999999999999897, 10.0, 9.999999999999948, 10.0, 9.999999999999988, 9.999999999999932, 9.999999999999854, 10.0, 9.999999999999876, 9.939735476659136, 9.818235275463824, 9.697188066545655, 9.57628074278123, 9.455519063081194, 9.333347249315631, 9.212142212404311, 9.090944942921912, 8.969748215164715, 8.848559523114403, 8.727365367988966, 8.606174739727543, 8.48498534518853, 8.36379070692152, 8.242601410509659, 8.121428313005788, 8.00024725640072, 7.879067509810854, 7.75788091309368, 7.636686562986281, 7.515487079465486, 7.394277079368192, 7.273055718492639, 7.151828597759158, 7.030592197639983, 6.909350352522651, 6.788100919789004, 6.6666666666642005, 6.666666666665567, 6.666666666664507, 6.666666666666666, 6.666666666664076, 6.666666666664436, 6.666666666663524, 6.666666666666666, 6.6666666666616665, 6.666666666666666, 6.666666666662879, 6.6666666666622225, 6.6666666666624605, 6.666666666661266, 6.666666666661627, 6.666666666659872, 6.666666666660661, 6.666666666666666, 6.666666666659621, 6.666666666659072, 6.666666666658503, 6.666666666657912, 6.6666666666573, 6.666666666656666, 6.666666666653394, 6.6666666666529055, 6.6666666666545735, 6.66666666665107, 3.333333333333333, 3.333333333333333, 3.333333333333333, 3.333333333333333, 3.333333333333333, 3.333333333333333, 3.333333333333333, 3.333333333333333, 3.333333333325026, 3.333333333333333, 3.3333333333282447, 3.333333333333333, 3.3333333333143065, 3.333333333333333, 3.333333333313437, 3.333333333301489, 3.3333333332951516, 3.333333333305074, 3.333333333300902, 3.3333333332964776, 3.333333333291786, 3.333333333286811, 3.3333333332815367, 3.3333333332759447, 3.3333333332700166, 3.333333333263731, 3.3333333332405894, 3.3333333332499997]\n"
     ]
    },
    {
     "data": {
      "text/plain": [
       "(array([28.,  0.,  0.,  0.,  0.,  0.,  0.,  0.,  0.,  0.,  0.,  0.,  0.,\n",
       "         0.,  0.,  0.,  0.,  0.,  0.,  0.,  0.,  0.,  0.,  0.,  0.,  0.,\n",
       "         0.,  0.,  0.,  0.,  0.,  0.,  0.,  0.,  0.,  0.,  0.,  0.,  0.,\n",
       "         0.,  0.,  0.,  0.,  0.,  0.,  0.,  0.,  0.,  0.,  0., 28.,  1.,\n",
       "         0.,  1.,  0.,  1.,  0.,  1.,  0.,  1.,  1.,  0.,  1.,  0.,  1.,\n",
       "         0.,  1.,  0.,  1.,  0.,  1.,  1.,  0.,  1.,  0.,  1.,  0.,  1.,\n",
       "         0.,  1.,  1.,  0.,  1.,  0.,  1.,  0.,  1.,  0.,  1.,  0.,  1.,\n",
       "         1.,  0.,  1.,  0.,  1.,  0.,  1.,  0., 18.]),\n",
       " array([ 3.33333333,  3.4       ,  3.46666667,  3.53333333,  3.6       ,\n",
       "         3.66666667,  3.73333333,  3.8       ,  3.86666667,  3.93333333,\n",
       "         4.        ,  4.06666667,  4.13333333,  4.2       ,  4.26666667,\n",
       "         4.33333333,  4.4       ,  4.46666667,  4.53333333,  4.6       ,\n",
       "         4.66666667,  4.73333333,  4.8       ,  4.86666667,  4.93333333,\n",
       "         5.        ,  5.06666667,  5.13333333,  5.2       ,  5.26666667,\n",
       "         5.33333333,  5.4       ,  5.46666667,  5.53333333,  5.6       ,\n",
       "         5.66666667,  5.73333333,  5.8       ,  5.86666667,  5.93333333,\n",
       "         6.        ,  6.06666667,  6.13333333,  6.2       ,  6.26666667,\n",
       "         6.33333333,  6.4       ,  6.46666667,  6.53333333,  6.6       ,\n",
       "         6.66666667,  6.73333333,  6.8       ,  6.86666667,  6.93333333,\n",
       "         7.        ,  7.06666667,  7.13333333,  7.2       ,  7.26666667,\n",
       "         7.33333333,  7.4       ,  7.46666667,  7.53333333,  7.6       ,\n",
       "         7.66666667,  7.73333333,  7.8       ,  7.86666667,  7.93333333,\n",
       "         8.        ,  8.06666667,  8.13333333,  8.2       ,  8.26666667,\n",
       "         8.33333333,  8.4       ,  8.46666667,  8.53333333,  8.6       ,\n",
       "         8.66666667,  8.73333333,  8.8       ,  8.86666667,  8.93333333,\n",
       "         9.        ,  9.06666667,  9.13333333,  9.2       ,  9.26666667,\n",
       "         9.33333333,  9.4       ,  9.46666667,  9.53333333,  9.6       ,\n",
       "         9.66666667,  9.73333333,  9.8       ,  9.86666667,  9.93333333,\n",
       "        10.        ]),\n",
       " <a list of 100 Patch objects>)"
      ]
     },
     "execution_count": 99,
     "metadata": {},
     "output_type": "execute_result"
    },
    {
     "data": {
      "image/png": "[encoded data removed]",
      "text/plain": [
       "<Figure size 432x288 with 1 Axes>"
      ]
     },
     "metadata": {
      "needs_background": "light"
     },
     "output_type": "display_data"
    }
   ],
   "source": [
    "results =[solverprog(cobbdouglas,par=x) for x in alpha1] \n",
    "print(results)\n",
    "\n",
    "plt.hist(results, bins=100) "
   ]
  },
  {
   "cell_type": "code",
   "execution_count": null,
   "metadata": {},
   "outputs": [],
   "source": []
  }
 ],
 "metadata": {
  "kernelspec": {
   "display_name": "Python 3",
   "language": "python",
   "name": "python3"
  },
  "language_info": {
   "codemirror_mode": {
    "name": "ipython",
    "version": 3
   },
   "file_extension": ".py",
   "mimetype": "text/x-python",
   "name": "python",
   "nbconvert_exporter": "python",
   "pygments_lexer": "ipython3",
   "version": "3.7.1"
  }
 },
 "nbformat": 4,
 "nbformat_minor": 2
}
